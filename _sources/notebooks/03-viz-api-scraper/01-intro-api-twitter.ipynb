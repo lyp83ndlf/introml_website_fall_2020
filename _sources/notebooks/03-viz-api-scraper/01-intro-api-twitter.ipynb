{
 "cells": [
  {
   "cell_type": "markdown",
   "metadata": {
    "colab_type": "text",
    "id": "M8k48eZMpi9U"
   },
   "source": [
    "\n",
    "[![AnalyticsDojo](https://github.com/rpi-techfundamentals/spring2019-materials/blob/master/fig/final-logo.png?raw=1)](http://rpi.analyticsdojo.com)\n",
    "<center><h1>Introduction to API's with Python</h1></center>\n",
    "<center><h3><a href = 'http://introml.analyticsdojo.com'>rpi.analyticsdojo.com</a></h3></center>\n"
   ]
  },
  {
   "cell_type": "markdown",
   "metadata": {},
   "source": [
    "# Introduction to APIs"
   ]
  },
  {
   "cell_type": "markdown",
   "metadata": {
    "colab_type": "text",
    "id": "dUJnFCHgpi9b"
   },
   "source": [
    "\n",
    "This is adopted from [Mining the Social Web, 2nd Edition](http://bit.ly/16kGNyb)\n",
    "Copyright (c) 2013, Matthew A. Russell\n",
    "All rights reserved.\n",
    "\n",
    "This work is licensed under the [Simplified BSD License](https://github.com/ptwobrussell/Mining-the-Social-Web-2nd-Edition/blob/master/LICENSE.txt)."
   ]
  },
  {
   "cell_type": "markdown",
   "metadata": {
    "colab_type": "text",
    "id": "BbhBJEttpi9f"
   },
   "source": [
    "### Before you Begin #1\n",
    "If you are working locally or on colab, this exercise requires the twitter package and the ruamel.yaml package.   Yaml files are structured files useful for storing configuration. \n"
   ]
  },
  {
   "cell_type": "code",
   "execution_count": null,
   "metadata": {
    "colab": {},
    "colab_type": "code",
    "id": "ayOChWv3pi9k"
   },
   "outputs": [],
   "source": [
    " !pip install twitter ruamel.yaml"
   ]
  },
  {
   "cell_type": "code",
   "execution_count": null,
   "metadata": {
    "colab": {},
    "colab_type": "code",
    "id": "REhWPaFqpi9y"
   },
   "outputs": [],
   "source": [
    "#see if it worked by importing the twitter package & some other things we will use.  \n",
    "from  twitter import *\n",
    "import datetime, traceback \n",
    "import json\n",
    "import time\n",
    "import sys\n"
   ]
  },
  {
   "cell_type": "markdown",
   "metadata": {
    "colab_type": "text",
    "id": "ZceZWICCpi9_"
   },
   "source": [
    "### Before you Begin #2\n",
    "Download the sample configuration.  \n"
   ]
  },
  {
   "cell_type": "code",
   "execution_count": null,
   "metadata": {
    "colab": {},
    "colab_type": "code",
    "id": "-_lUk3c4pi-D"
   },
   "outputs": [],
   "source": [
    "!wget https://raw.githubusercontent.com/rpi-techfundamentals/spring2019-materials/master/04-viz-api-scraper/screen_names.csv && wget https://raw.githubusercontent.com/rpi-techfundamentals/spring2019-materials/master/04-viz-api-scraper/twitlab.py \n"
   ]
  },
  {
   "cell_type": "markdown",
   "metadata": {
    "colab_type": "text",
    "id": "j3zwhJU30ubs"
   },
   "source": [
    "## Download Authorization file (look at Webex Teams for file)"
   ]
  },
  {
   "cell_type": "code",
   "execution_count": null,
   "metadata": {
    "colab": {},
    "colab_type": "code",
    "id": "BXBkHKYR0tKt"
   },
   "outputs": [],
   "source": [
    "\n"
   ]
  },
  {
   "cell_type": "markdown",
   "metadata": {
    "colab_type": "text",
    "id": "estmos5Mpi-K"
   },
   "source": [
    "## Step1.  Loading Authorization Data\n",
    "- Here we are going to store the authorization data in a .YAML file rather than directly in the notebook.  \n",
    "- We have also added `config.yaml` to the `.gitignore` file so we won't accidentally commit our sensitive data to the repository.\n",
    "- You should generally keep sensitive data out of all git repositories (public or private) but definitely Public. \n",
    "- If you ever accidentally commit data to a public repository you must consider it compromised.\n",
    "- A .yaml file is a common way to store configuration data, but it is not really secure. "
   ]
  },
  {
   "cell_type": "code",
   "execution_count": null,
   "metadata": {
    "colab": {},
    "colab_type": "code",
    "id": "3bMB-8t5pi-O"
   },
   "outputs": [],
   "source": [
    "#This will import some required libraries.\n",
    "import sys \n",
    "import ruamel.yaml #A .yaml file \n",
    "#This is your configuration file. \n",
    "twitter_yaml='config.yaml'\n",
    "with open(twitter_yaml, 'r') as yaml_t:\n",
    "    cf_t=ruamel.yaml.round_trip_load(yaml_t, preserve_quotes=True)\n",
    "\n",
    "#You can check your config was loaded by printing, but you should not commit this.\n",
    "cf_t\n"
   ]
  },
  {
   "cell_type": "markdown",
   "metadata": {
    "colab_type": "text",
    "id": "4oceJAex3dZh"
   },
   "source": [
    "## `cat` command to look at files\n",
    "We can use the `cat` command to look at the structure of our files. "
   ]
  },
  {
   "cell_type": "code",
   "execution_count": null,
   "metadata": {
    "colab": {},
    "colab_type": "code",
    "id": "qL5lShkF3XPf"
   },
   "outputs": [],
   "source": [
    "!cat config.yaml"
   ]
  },
  {
   "cell_type": "markdown",
   "metadata": {
    "colab_type": "text",
    "id": "-on6IWMIpi-i"
   },
   "source": [
    "## Create Some Relevant Functions\n",
    "- We first will create a Twitter object we can used to authorize data.\n",
    "- Then we will get profiles.\n",
    "- Finally we will get some tweets.  \n",
    "\n",
    "**Don't worry about not understanding all the code.  Here we are pushing you us more complex functions.**"
   ]
  },
  {
   "cell_type": "code",
   "execution_count": null,
   "metadata": {
    "cellView": "both",
    "colab": {},
    "colab_type": "code",
    "id": "QCilB6v2pi-l"
   },
   "outputs": [],
   "source": [
    "#@title\n",
    "def create_twitter_auth(cf_t):\n",
    "        \"\"\"Function to create a twitter object\n",
    "           Args: cf_t is configuration dictionary. \n",
    "           Returns: Twitter object.\n",
    "            \"\"\"\n",
    "        # When using twitter stream you must authorize.\n",
    "        # these tokens are necessary for user authentication\n",
    "        # create twitter API object\n",
    "\n",
    "        auth = OAuth(cf_t['access_token'], cf_t['access_token_secret'], cf_t['consumer_key'], cf_t['consumer_secret'])\n",
    "\n",
    "        try:\n",
    "            # create twitter API object\n",
    "            twitter = Twitter(auth = auth)\n",
    "        except TwitterHTTPError:\n",
    "            traceback.print_exc()\n",
    "            time.sleep(cf_t['sleep_interval'])\n",
    "        return twitter"
   ]
  },
  {
   "cell_type": "code",
   "execution_count": null,
   "metadata": {
    "colab": {},
    "colab_type": "code",
    "id": "vU-Kd1tspi-q"
   },
   "outputs": [],
   "source": [
    "def get_profiles(twitter, names, cf_t):\n",
    "    \"\"\"Function write profiles to a file with the form *data-user-profiles.json*\n",
    "       Args: names is a list of names\n",
    "             cf_t is a list of twitter config\n",
    "       Returns: Nothing\n",
    "        \"\"\"\n",
    "    # file name for daily tracking\n",
    "    dt = datetime.datetime.now()\n",
    "    fn = cf_t['data']+'/profiles/'+dt.strftime('%Y-%m-%d-user-profiles.json')\n",
    "    with open(fn, 'w') as f:\n",
    "        for name in names:\n",
    "            print(\"Searching twitter for User profile: \", name)\n",
    "            try:\n",
    "                # create a subquery, looking up information about these users\n",
    "                # twitter API docs: https://dev.twitter.com/docs/api/1/get/users/lookup\n",
    "                profiles = twitter.users.lookup(screen_name = name)\n",
    "                sub_start_time = time.time()\n",
    "                for profile in profiles:\n",
    "                    print(\"User found. Total tweets:\", profile['statuses_count'])\n",
    "                    # now save user info\n",
    "                    f.write(json.dumps(profile))\n",
    "                    f.write(\"\\n\")\n",
    "                sub_elapsed_time = time.time() - sub_start_time;\n",
    "                if sub_elapsed_time < cf_t['sleep_interval']:\n",
    "                    time.sleep(cf_t['sleep_interval'] + 1 - sub_elapsed_time)\n",
    "            except TwitterHTTPError:\n",
    "                traceback.print_exc()\n",
    "                time.sleep(cf_t['sleep_interval'])\n",
    "                continue\n",
    "    f.close()\n",
    "    return fn"
   ]
  },
  {
   "cell_type": "markdown",
   "metadata": {
    "colab_type": "text",
    "id": "NOnfoSR9pi-u"
   },
   "source": [
    "## Load Twitter Handle From CSV\n",
    "- This is a .csv that has individuals we want to collect data on. \n",
    "- Go ahead and follow [AnalyticsDojo](https://twitter.com/AnalyticsDojo).  "
   ]
  },
  {
   "cell_type": "code",
   "execution_count": null,
   "metadata": {
    "colab": {},
    "colab_type": "code",
    "id": "m_i5FAM7pi-w"
   },
   "outputs": [],
   "source": [
    "import pandas as pd\n",
    "df=pd.read_csv(cf_t['file'])\n",
    "df"
   ]
  },
  {
   "cell_type": "markdown",
   "metadata": {
    "colab_type": "text",
    "id": "ADSz7EZkpi-4"
   },
   "source": [
    "## Create Twitter Object"
   ]
  },
  {
   "cell_type": "code",
   "execution_count": null,
   "metadata": {
    "colab": {},
    "colab_type": "code",
    "id": "bNn1Tz_opi-5"
   },
   "outputs": [],
   "source": [
    "import twitlab"
   ]
  },
  {
   "cell_type": "code",
   "execution_count": null,
   "metadata": {
    "colab": {},
    "colab_type": "code",
    "id": "jLCac_eVpi-8"
   },
   "outputs": [],
   "source": [
    "#Create Twitter Object\n",
    "twitter= twitlab.create_twitter_auth(cf_t)"
   ]
  },
  {
   "cell_type": "code",
   "execution_count": null,
   "metadata": {
    "colab": {},
    "colab_type": "code",
    "id": "7zziUiqxpi-_"
   },
   "outputs": [],
   "source": [
    "df['screen_name']"
   ]
  },
  {
   "cell_type": "code",
   "execution_count": null,
   "metadata": {
    "colab": {},
    "colab_type": "code",
    "id": "SFeVvoXVs53X"
   },
   "outputs": [],
   "source": [
    "!mkdir data && mkdir data/profiles"
   ]
  },
  {
   "cell_type": "code",
   "execution_count": null,
   "metadata": {
    "colab": {},
    "colab_type": "code",
    "id": "IJwSKIx9pi_E"
   },
   "outputs": [],
   "source": [
    "#This will get general profile data\n",
    "profiles_fn=twitlab.get_profiles(twitter, df['screen_name'], cf_t)"
   ]
  },
  {
   "cell_type": "code",
   "execution_count": null,
   "metadata": {
    "colab": {},
    "colab_type": "code",
    "id": "QHNBC4q60GWl"
   },
   "outputs": [],
   "source": [
    "!ls data/profiles"
   ]
  },
  {
   "cell_type": "markdown",
   "metadata": {
    "colab_type": "text",
    "id": "3jGqvyvv0XCi"
   },
   "source": [
    "## Let's look at the files created.  "
   ]
  },
  {
   "cell_type": "code",
   "execution_count": 1,
   "metadata": {
    "colab": {},
    "colab_type": "code",
    "id": "d9lLNt0C0OPq"
   },
   "outputs": [
    {
     "name": "stdout",
     "output_type": "stream",
     "text": [
      "{\"time_zone\": \"Quito\", \"default_profile\": false, \"entities\": {\"url\": {\"urls\": [{\"url\": \"https://t.co/Qox5pT4c31\", \"display_url\": \"rpi.edu\", \"expanded_url\": \"http://www.rpi.edu\", \"indices\": [0, 23]}]}, \"description\": {\"urls\": []}}, \"needs_phone_verification\": false, \"has_extended_profile\": false, \"id\": 18250462, \"profile_background_image_url_https\": \"https://abs.twimg.com/images/themes/theme2/bg.gif\", \"followers_count\": 588, \"translator_type\": \"none\", \"profile_link_color\": \"1F98C7\", \"friends_count\": 606, \"created_at\": \"Fri Dec 19 20:23:58 +0000 2008\", \"profile_use_background_image\": true, \"suspended\": false, \"location\": \"Troy, NY\", \"profile_image_url_https\": \"https://pbs.twimg.com/profile_images/1621460585/profile_normal.jpg\", \"listed_count\": 47, \"default_profile_image\": false, \"notifications\": false, \"protected\": false, \"status\": {\"in_reply_to_status_id_str\": null, \"possibly_sensitive\": false, \"quoted_status_id\": 913764584732938240, \"is_quote_status\": true, \"lang\": \"en\", \"retweet_count\": 1, \"geo\": null, \"retweeted\": false, \"entities\": {\"urls\": [{\"url\": \"https://t.co/QqtYkhpiRU\", \"display_url\": \"twitter.com/i/web/status/9\\u2026\", \"expanded_url\": \"https://twitter.com/i/web/status/914671471670243328\", \"indices\": [107, 130]}], \"user_mentions\": [{\"screen_name\": \"SaratogaSprings\", \"id\": 25881261, \"id_str\": \"25881261\", \"name\": \"Saratoga Springs\", \"indices\": [43, 59]}, {\"screen_name\": \"clarkefoley\", \"id\": 32967328, \"id_str\": \"32967328\", \"name\": \"Clarke Foley\", \"indices\": [93, 105]}], \"symbols\": [], \"hashtags\": [{\"indices\": [13, 31], \"text\": \"startuptechvalley\"}]}, \"in_reply_to_user_id_str\": null, \"contributors\": null, \"id\": 914671471670243328, \"truncated\": true, \"place\": null, \"text\": \"Great to see #startuptechvalley heading to @SaratogaSprings for October (3rd year running).  @clarkefoley\\u2026 https://t.co/QqtYkhpiRU\", \"source\": \"<a href=\\\"http://twitter.com\\\" rel=\\\"nofollow\\\">Twitter Web Client</a>\", \"in_reply_to_user_id\": null, \"created_at\": \"Mon Oct 02 02:00:47 +0000 2017\", \"id_str\": \"914671471670243328\", \"quoted_status_id_str\": \"913764584732938240\", \"in_reply_to_screen_name\": null, \"in_reply_to_status_id\": null, \"coordinates\": null, \"favorited\": false, \"favorite_count\": 3}, \"is_translator\": false, \"screen_name\": \"JasonKuruzovich\", \"following\": false, \"favourites_count\": 339, \"profile_text_color\": \"663B12\", \"lang\": \"en\", \"profile_sidebar_border_color\": \"C6E2EE\", \"profile_background_image_url\": \"http://abs.twimg.com/images/themes/theme2/bg.gif\", \"profile_image_url\": \"http://pbs.twimg.com/profile_images/1621460585/profile_normal.jpg\", \"contributors_enabled\": false, \"description\": \"Director of the Severino Center for Entrepreneurship at RPI, Professor of Business Analytics, husband, parent, and aspiring entrepreneur.\", \"geo_enabled\": true, \"is_translation_enabled\": false, \"statuses_count\": 499, \"profile_background_color\": \"C6E2EE\", \"profile_sidebar_fill_color\": \"DAECF4\", \"utc_offset\": -18000, \"id_str\": \"18250462\", \"profile_background_tile\": false, \"name\": \"Jason Kuruzovich\", \"verified\": false, \"url\": \"https://t.co/Qox5pT4c31\", \"follow_request_sent\": false}\n",
      "{\"screen_name\": \"AnalyticsDojo\", \"profile_link_color\": \"1DA1F2\", \"time_zone\": null, \"name\": \"AnalyticsDojo\", \"profile_text_color\": \"333333\", \"default_profile\": true, \"lang\": \"en\", \"profile_sidebar_border_color\": \"C0DEED\", \"profile_background_image_url\": \"http://abs.twimg.com/images/themes/theme1/bg.png\", \"description\": \"Jupyter notebook based analytics platform modeled off of @freecodecamp. Contact @jasonkurzovich to get involved.\", \"entities\": {\"url\": {\"urls\": [{\"url\": \"https://t.co/oPgImNINZq\", \"display_url\": \"analyticsdojo.com\", \"expanded_url\": \"http://www.analyticsdojo.com\", \"indices\": [0, 23]}]}, \"description\": {\"urls\": []}}, \"contributors_enabled\": false, \"notifications\": false, \"id\": 618143966, \"profile_background_image_url_https\": \"https://abs.twimg.com/images/themes/theme1/bg.png\", \"followers_count\": 5, \"created_at\": \"Mon Jun 25 14:37:19 +0000 2012\", \"status\": {\"in_reply_to_status_id_str\": null, \"possibly_sensitive\": false, \"is_quote_status\": false, \"lang\": \"en\", \"retweet_count\": 0, \"geo\": null, \"contributors\": null, \"entities\": {\"urls\": [{\"url\": \"https://t.co/ekiNh3bKgD\", \"display_url\": \"goo.gl/dRSZd4\", \"expanded_url\": \"https://goo.gl/dRSZd4\", \"indices\": [115, 138]}], \"user_mentions\": [{\"screen_name\": \"AnalyticsDojo\", \"id\": 618143966, \"id_str\": \"618143966\", \"name\": \"AnalyticsDojo\", \"indices\": [19, 33]}, {\"screen_name\": \"JupyterCon\", \"id\": 816450116127113216, \"id_str\": \"816450116127113216\", \"name\": \"JupyterCon\", \"indices\": [34, 45]}], \"symbols\": [], \"hashtags\": []}, \"in_reply_to_user_id_str\": null, \"retweeted\": false, \"id\": 900438934077014017, \"truncated\": false, \"place\": null, \"text\": \"Excited to present @analyticsdojo @jupytercon's poster session: We Need a Jupyter Based FreeCodeCamp for Analytics https://t.co/ekiNh3bKgD\", \"source\": \"<a href=\\\"http://twitter.com\\\" rel=\\\"nofollow\\\">Twitter Web Client</a>\", \"in_reply_to_user_id\": null, \"created_at\": \"Wed Aug 23 19:25:45 +0000 2017\", \"id_str\": \"900438934077014017\", \"in_reply_to_screen_name\": null, \"in_reply_to_status_id\": null, \"coordinates\": null, \"favorite_count\": 0, \"favorited\": false}, \"translator_type\": \"none\", \"is_translation_enabled\": false, \"statuses_count\": 1, \"profile_background_color\": \"C0DEED\", \"profile_sidebar_fill_color\": \"DDEEF6\", \"friends_count\": 5, \"utc_offset\": null, \"verified\": false, \"profile_use_background_image\": true, \"id_str\": \"618143966\", \"location\": \"New York, USA\", \"profile_image_url\": \"http://pbs.twimg.com/profile_images/732403133519908864/ox4XZhs3_normal.jpg\", \"profile_image_url_https\": \"https://pbs.twimg.com/profile_images/732403133519908864/ox4XZhs3_normal.jpg\", \"profile_background_tile\": false, \"listed_count\": 0, \"has_extended_profile\": false, \"default_profile_image\": false, \"favourites_count\": 0, \"url\": \"https://t.co/oPgImNINZq\", \"protected\": false, \"geo_enabled\": false, \"is_translator\": false, \"follow_request_sent\": false, \"following\": true}\n",
      "{\"translator_type\": \"none\", \"utc_offset\": -18000, \"contributors_enabled\": false, \"follow_request_sent\": false, \"profile_link_color\": \"1F98C7\", \"status\": {\"quoted_status_id\": 913764584732938240, \"in_reply_to_screen_name\": null, \"source\": \"<a href=\\\"http://twitter.com\\\" rel=\\\"nofollow\\\">Twitter Web Client</a>\", \"truncated\": true, \"place\": null, \"in_reply_to_user_id\": null, \"in_reply_to_status_id\": null, \"coordinates\": null, \"text\": \"Great to see #startuptechvalley heading to @SaratogaSprings for October (3rd year running).  @clarkefoley\\u2026 https://t.co/QqtYkhpiRU\", \"retweeted\": false, \"in_reply_to_status_id_str\": null, \"lang\": \"en\", \"is_quote_status\": true, \"favorite_count\": 7, \"created_at\": \"Mon Oct 02 02:00:47 +0000 2017\", \"contributors\": null, \"geo\": null, \"id\": 914671471670243328, \"favorited\": false, \"possibly_sensitive\": false, \"entities\": {\"user_mentions\": [{\"id\": 25881261, \"name\": \"Saratoga Springs\", \"indices\": [43, 59], \"id_str\": \"25881261\", \"screen_name\": \"SaratogaSprings\"}, {\"id\": 32967328, \"name\": \"Clarke Foley\", \"indices\": [93, 105], \"id_str\": \"32967328\", \"screen_name\": \"clarkefoley\"}], \"urls\": [{\"url\": \"https://t.co/QqtYkhpiRU\", \"indices\": [107, 130], \"expanded_url\": \"https://twitter.com/i/web/status/914671471670243328\", \"display_url\": \"twitter.com/i/web/status/9\\u2026\"}], \"hashtags\": [{\"indices\": [13, 31], \"text\": \"startuptechvalley\"}], \"symbols\": []}, \"quoted_status_id_str\": \"913764584732938240\", \"retweet_count\": 3, \"in_reply_to_user_id_str\": null, \"id_str\": \"914671471670243328\"}, \"default_profile\": false, \"profile_background_tile\": false, \"profile_text_color\": \"663B12\", \"description\": \"Director of the Severino Center for Entrepreneurship at RPI, Professor of Business Analytics, husband, parent, and aspiring entrepreneur.\", \"protected\": false, \"lang\": \"en\", \"listed_count\": 47, \"is_translation_enabled\": false, \"id\": 18250462, \"profile_sidebar_fill_color\": \"DAECF4\", \"profile_image_url\": \"http://pbs.twimg.com/profile_images/1621460585/profile_normal.jpg\", \"name\": \"Jason Kuruzovich\", \"url\": \"https://t.co/Qox5pT4c31\", \"profile_sidebar_border_color\": \"C6E2EE\", \"favourites_count\": 339, \"profile_use_background_image\": true, \"needs_phone_verification\": false, \"created_at\": \"Fri Dec 19 20:23:58 +0000 2008\", \"verified\": false, \"notifications\": false, \"profile_background_color\": \"C6E2EE\", \"suspended\": false, \"is_translator\": false, \"has_extended_profile\": false, \"profile_image_url_https\": \"https://pbs.twimg.com/profile_images/1621460585/profile_normal.jpg\", \"profile_background_image_url_https\": \"https://abs.twimg.com/images/themes/theme2/bg.gif\", \"geo_enabled\": true, \"default_profile_image\": false, \"profile_background_image_url\": \"http://abs.twimg.com/images/themes/theme2/bg.gif\", \"time_zone\": \"Quito\", \"location\": \"Troy, NY\", \"statuses_count\": 499, \"friends_count\": 606, \"entities\": {\"url\": {\"urls\": [{\"url\": \"https://t.co/Qox5pT4c31\", \"indices\": [0, 23], \"expanded_url\": \"http://www.rpi.edu\", \"display_url\": \"rpi.edu\"}]}, \"description\": {\"urls\": []}}, \"followers_count\": 587, \"following\": false, \"id_str\": \"18250462\", \"screen_name\": \"JasonKuruzovich\"}\n",
      "{\"favourites_count\": 0, \"profile_sidebar_fill_color\": \"DDEEF6\", \"translator_type\": \"none\", \"lang\": \"en\", \"contributors_enabled\": false, \"verified\": false, \"profile_text_color\": \"333333\", \"notifications\": false, \"profile_background_color\": \"C0DEED\", \"status\": {\"in_reply_to_screen_name\": null, \"source\": \"<a href=\\\"http://twitter.com\\\" rel=\\\"nofollow\\\">Twitter Web Client</a>\", \"truncated\": false, \"place\": null, \"in_reply_to_user_id\": null, \"in_reply_to_status_id\": null, \"coordinates\": null, \"text\": \"Excited to present @analyticsdojo @jupytercon's poster session: We Need a Jupyter Based FreeCodeCamp for Analytics https://t.co/ekiNh3bKgD\", \"retweeted\": false, \"in_reply_to_status_id_str\": null, \"lang\": \"en\", \"is_quote_status\": false, \"favorite_count\": 0, \"created_at\": \"Wed Aug 23 19:25:45 +0000 2017\", \"contributors\": null, \"geo\": null, \"id\": 900438934077014017, \"favorited\": false, \"possibly_sensitive\": false, \"entities\": {\"user_mentions\": [{\"id\": 618143966, \"name\": \"AnalyticsDojo\", \"indices\": [19, 33], \"id_str\": \"618143966\", \"screen_name\": \"AnalyticsDojo\"}, {\"id\": 816450116127113216, \"name\": \"JupyterCon\", \"indices\": [34, 45], \"id_str\": \"816450116127113216\", \"screen_name\": \"JupyterCon\"}], \"urls\": [{\"url\": \"https://t.co/ekiNh3bKgD\", \"indices\": [115, 138], \"expanded_url\": \"https://goo.gl/dRSZd4\", \"display_url\": \"goo.gl/dRSZd4\"}], \"hashtags\": [], \"symbols\": []}, \"retweet_count\": 0, \"in_reply_to_user_id_str\": null, \"id_str\": \"900438934077014017\"}, \"profile_sidebar_border_color\": \"C0DEED\", \"default_profile\": true, \"is_translator\": false, \"profile_link_color\": \"1DA1F2\", \"profile_background_image_url\": \"http://abs.twimg.com/images/themes/theme1/bg.png\", \"description\": \"Jupyter notebook based analytics platform modeled off of @freecodecamp. Contact @jasonkurzovich to get involved.\", \"profile_image_url_https\": \"https://pbs.twimg.com/profile_images/732403133519908864/ox4XZhs3_normal.jpg\", \"protected\": false, \"created_at\": \"Mon Jun 25 14:37:19 +0000 2012\", \"default_profile_image\": false, \"listed_count\": 0, \"time_zone\": null, \"is_translation_enabled\": false, \"id\": 618143966, \"location\": \"New York, USA\", \"utc_offset\": null, \"geo_enabled\": false, \"friends_count\": 5, \"profile_use_background_image\": true, \"id_str\": \"618143966\", \"entities\": {\"url\": {\"urls\": [{\"url\": \"https://t.co/oPgImNINZq\", \"indices\": [0, 23], \"expanded_url\": \"http://www.analyticsdojo.com\", \"display_url\": \"analyticsdojo.com\"}]}, \"description\": {\"urls\": []}}, \"name\": \"AnalyticsDojo\", \"profile_image_url\": \"http://pbs.twimg.com/profile_images/732403133519908864/ox4XZhs3_normal.jpg\", \"followers_count\": 5, \"follow_request_sent\": false, \"has_extended_profile\": false, \"url\": \"https://t.co/oPgImNINZq\", \"following\": true, \"profile_background_image_url_https\": \"https://abs.twimg.com/images/themes/theme1/bg.png\", \"profile_background_tile\": false, \"statuses_count\": 1, \"screen_name\": \"AnalyticsDojo\"}\n",
      "{\"favourites_count\": 125, \"profile_use_background_image\": false, \"profile_sidebar_fill_color\": \"000000\", \"translator_type\": \"none\", \"lang\": \"en\", \"contributors_enabled\": false, \"verified\": false, \"profile_text_color\": \"000000\", \"notifications\": false, \"profile_background_color\": \"000000\", \"status\": {\"in_reply_to_screen_name\": null, \"source\": \"<a href=\\\"https://www.sprinklr.com\\\" rel=\\\"nofollow\\\">Sprinklr</a>\", \"truncated\": true, \"place\": null, \"in_reply_to_user_id\": null, \"in_reply_to_status_id\": null, \"coordinates\": null, \"text\": \"#AI powered by #TensorFlow coming to the #UnrealEngine! \\n\\nGet the Unreal Engine plugin here \\u2192\\u2026 https://t.co/VEIH9Pvg9o\", \"retweeted\": false, \"in_reply_to_status_id_str\": null, \"lang\": \"en\", \"is_quote_status\": false, \"favorite_count\": 236, \"created_at\": \"Thu Sep 28 18:00:07 +0000 2017\", \"contributors\": null, \"geo\": null, \"id\": 913463346678128643, \"favorited\": false, \"possibly_sensitive\": false, \"entities\": {\"user_mentions\": [], \"urls\": [{\"url\": \"https://t.co/VEIH9Pvg9o\", \"indices\": [95, 118], \"expanded_url\": \"https://twitter.com/i/web/status/913463346678128643\", \"display_url\": \"twitter.com/i/web/status/9\\u2026\"}], \"hashtags\": [{\"indices\": [0, 3], \"text\": \"AI\"}, {\"indices\": [15, 26], \"text\": \"TensorFlow\"}, {\"indices\": [41, 54], \"text\": \"UnrealEngine\"}], \"symbols\": []}, \"retweet_count\": 140, \"in_reply_to_user_id_str\": null, \"id_str\": \"913463346678128643\"}, \"profile_sidebar_border_color\": \"000000\", \"default_profile\": false, \"is_translator\": false, \"profile_link_color\": \"FAB81E\", \"profile_background_image_url\": \"http://abs.twimg.com/images/themes/theme1/bg.png\", \"description\": \"TensorFlow is a fast, flexible, and scalable open-source machine learning library for research and production.\", \"profile_image_url_https\": \"https://pbs.twimg.com/profile_images/773317101012586496/q8sc1KuZ_normal.jpg\", \"protected\": false, \"created_at\": \"Fri Feb 18 16:21:31 +0000 2011\", \"default_profile_image\": false, \"listed_count\": 540, \"time_zone\": \"Pacific Time (US & Canada)\", \"is_translation_enabled\": false, \"id\": 254107028, \"location\": \"Mountain View, CA\", \"utc_offset\": -25200, \"geo_enabled\": true, \"friends_count\": 88, \"profile_banner_url\": \"https://pbs.twimg.com/profile_banners/254107028/1473208179\", \"id_str\": \"254107028\", \"entities\": {\"url\": {\"urls\": [{\"url\": \"https://t.co/gxgTGHp5yO\", \"indices\": [0, 23], \"expanded_url\": \"http://tensorflow.org\", \"display_url\": \"tensorflow.org\"}]}, \"description\": {\"urls\": []}}, \"name\": \"TensorFlow\", \"profile_image_url\": \"http://pbs.twimg.com/profile_images/773317101012586496/q8sc1KuZ_normal.jpg\", \"followers_count\": 40832, \"follow_request_sent\": false, \"has_extended_profile\": false, \"url\": \"https://t.co/gxgTGHp5yO\", \"following\": false, \"profile_background_image_url_https\": \"https://abs.twimg.com/images/themes/theme1/bg.png\", \"profile_background_tile\": false, \"statuses_count\": 140, \"screen_name\": \"tensorflow\"}\n",
      "{\"favourites_count\": 387, \"profile_use_background_image\": true, \"profile_sidebar_fill_color\": \"C0DFEC\", \"translator_type\": \"none\", \"lang\": \"en\", \"contributors_enabled\": false, \"verified\": false, \"profile_text_color\": \"333333\", \"notifications\": false, \"profile_background_color\": \"022330\", \"status\": {\"in_reply_to_screen_name\": null, \"source\": \"<a href=\\\"http://bufferapp.com\\\" rel=\\\"nofollow\\\">Buffer</a>\", \"truncated\": false, \"place\": null, \"in_reply_to_user_id\": null, \"in_reply_to_status_id\": null, \"coordinates\": null, \"text\": \"RT @gcosma1: A must read! An Overview of Multi-Task Learning in Deep Neural Networks  https://t.co/KHZPbJgDGL #DeepLearning  #transfer lear\\u2026\", \"retweeted\": false, \"in_reply_to_user_id_str\": null, \"in_reply_to_status_id_str\": null, \"lang\": \"en\", \"is_quote_status\": false, \"favorite_count\": 0, \"created_at\": \"Tue Jun 06 18:51:57 +0000 2017\", \"contributors\": null, \"geo\": null, \"id\": 872164171164651520, \"favorited\": false, \"possibly_sensitive\": false, \"entities\": {\"user_mentions\": [{\"id\": 224161598, \"name\": \"Georgina Cosma\", \"indices\": [3, 11], \"id_str\": \"224161598\", \"screen_name\": \"gcosma1\"}], \"urls\": [{\"url\": \"https://t.co/KHZPbJgDGL\", \"indices\": [86, 109], \"expanded_url\": \"http://sebastianruder.com/multi-task/\", \"display_url\": \"sebastianruder.com/multi-task/\"}], \"hashtags\": [{\"indices\": [110, 123], \"text\": \"DeepLearning\"}, {\"indices\": [125, 134], \"text\": \"transfer\"}], \"symbols\": []}, \"retweet_count\": 209, \"retweeted_status\": {\"in_reply_to_screen_name\": null, \"source\": \"<a href=\\\"http://twitter.com/download/android\\\" rel=\\\"nofollow\\\">Twitter for Android</a>\", \"truncated\": true, \"place\": null, \"in_reply_to_user_id\": null, \"in_reply_to_status_id\": null, \"coordinates\": null, \"text\": \"A must read! An Overview of Multi-Task Learning in Deep Neural Networks  https://t.co/KHZPbJgDGL #DeepLearning\\u2026 https://t.co/PK12eeCvhW\", \"retweeted\": false, \"in_reply_to_status_id_str\": null, \"lang\": \"en\", \"is_quote_status\": false, \"favorite_count\": 332, \"created_at\": \"Tue Jun 06 18:11:14 +0000 2017\", \"contributors\": null, \"geo\": null, \"id\": 872153925125902336, \"favorited\": false, \"possibly_sensitive\": false, \"entities\": {\"user_mentions\": [], \"urls\": [{\"url\": \"https://t.co/KHZPbJgDGL\", \"indices\": [73, 96], \"expanded_url\": \"http://sebastianruder.com/multi-task/\", \"display_url\": \"sebastianruder.com/multi-task/\"}, {\"url\": \"https://t.co/PK12eeCvhW\", \"indices\": [112, 135], \"expanded_url\": \"https://twitter.com/i/web/status/872153925125902336\", \"display_url\": \"twitter.com/i/web/status/8\\u2026\"}], \"hashtags\": [{\"indices\": [97, 110], \"text\": \"DeepLearning\"}], \"symbols\": []}, \"retweet_count\": 209, \"in_reply_to_user_id_str\": null, \"id_str\": \"872153925125902336\"}, \"id_str\": \"872164171164651520\"}, \"profile_sidebar_border_color\": \"A8C7F7\", \"default_profile\": false, \"is_translator\": false, \"profile_link_color\": \"0084B4\", \"profile_background_image_url\": \"http://abs.twimg.com/images/themes/theme15/bg.png\", \"description\": \"Account for Deep Learning related news, papers, software, reading materials and also other machine learning related news and facts\", \"profile_image_url_https\": \"https://pbs.twimg.com/profile_images/534326120162656256/9pjHTMqm_normal.png\", \"protected\": false, \"created_at\": \"Mon Nov 10 16:29:34 +0000 2014\", \"default_profile_image\": false, \"listed_count\": 864, \"time_zone\": \"New Delhi\", \"is_translation_enabled\": false, \"id\": 2895770934, \"location\": \"\", \"utc_offset\": 19800, \"geo_enabled\": false, \"friends_count\": 429, \"profile_banner_url\": \"https://pbs.twimg.com/profile_banners/2895770934/1427524254\", \"id_str\": \"2895770934\", \"entities\": {\"url\": {\"urls\": [{\"url\": \"https://t.co/fKXpPW5IVI\", \"indices\": [0, 23], \"expanded_url\": \"https://plus.google.com/107322247125350038821\", \"display_url\": \"plus.google.com/10732224712535\\u2026\"}]}, \"description\": {\"urls\": []}}, \"name\": \"Deep Learning Hub\", \"profile_image_url\": \"http://pbs.twimg.com/profile_images/534326120162656256/9pjHTMqm_normal.png\", \"followers_count\": 38007, \"follow_request_sent\": false, \"has_extended_profile\": false, \"url\": \"https://t.co/fKXpPW5IVI\", \"following\": false, \"profile_background_image_url_https\": \"https://abs.twimg.com/images/themes/theme15/bg.png\", \"profile_background_tile\": false, \"statuses_count\": 2404, \"screen_name\": \"DeepLearningHub\"}\n",
      "{\"profile_background_image_url\": \"http://abs.twimg.com/images/themes/theme1/bg.png\", \"verified\": false, \"id_str\": \"254107028\", \"is_translation_enabled\": false, \"follow_request_sent\": false, \"screen_name\": \"TensorFlow\", \"description\": \"TensorFlow is a fast, flexible, and scalable open-source machine learning library for research and production.\", \"profile_background_tile\": false, \"location\": \"Mountain View, CA\", \"has_extended_profile\": false, \"name\": \"TensorFlow\", \"utc_offset\": -25200, \"profile_sidebar_fill_color\": \"000000\", \"statuses_count\": 144, \"profile_text_color\": \"000000\", \"profile_image_url\": \"http://pbs.twimg.com/profile_images/773317101012586496/q8sc1KuZ_normal.jpg\", \"profile_background_color\": \"000000\", \"notifications\": false, \"status\": {\"geo\": null, \"in_reply_to_user_id\": null, \"lang\": \"en\", \"is_quote_status\": false, \"id_str\": \"917474245290221571\", \"retweet_count\": 271, \"text\": \"RT @Google: Powered by @tensorflow, an open source machine learning library, Tanzanian farmers can now spot sick crops with AI. https://t.c\\u2026\", \"favorited\": false, \"contributors\": null, \"retweeted_status\": {\"geo\": null, \"in_reply_to_user_id\": null, \"lang\": \"en\", \"is_quote_status\": false, \"id_str\": \"917468018032099331\", \"retweet_count\": 271, \"text\": \"Powered by @tensorflow, an open source machine learning library, Tanzanian farmers can now spot sick crops with AI. https://t.co/OB2YUT4XK6\", \"favorited\": false, \"contributors\": null, \"place\": null, \"truncated\": false, \"retweeted\": false, \"source\": \"<a href=\\\"http://twitter.com\\\" rel=\\\"nofollow\\\">Twitter Web Client</a>\", \"in_reply_to_user_id_str\": null, \"in_reply_to_status_id\": null, \"possibly_sensitive\": false, \"in_reply_to_status_id_str\": null, \"created_at\": \"Mon Oct 09 19:13:15 +0000 2017\", \"id\": 917468018032099331, \"coordinates\": null, \"entities\": {\"user_mentions\": [{\"indices\": [11, 22], \"id_str\": \"254107028\", \"name\": \"TensorFlow\", \"screen_name\": \"TensorFlow\", \"id\": 254107028}], \"hashtags\": [], \"urls\": [{\"expanded_url\": \"https://www.wired.com/story/plant-ai\", \"url\": \"https://t.co/OB2YUT4XK6\", \"indices\": [116, 139], \"display_url\": \"wired.com/story/plant-ai\"}], \"symbols\": []}, \"in_reply_to_screen_name\": null, \"favorite_count\": 861}, \"truncated\": false, \"retweeted\": false, \"source\": \"<a href=\\\"https://www.sprinklr.com\\\" rel=\\\"nofollow\\\">Sprinklr</a>\", \"in_reply_to_user_id_str\": null, \"in_reply_to_status_id\": null, \"in_reply_to_status_id_str\": null, \"created_at\": \"Mon Oct 09 19:38:00 +0000 2017\", \"id\": 917474245290221571, \"coordinates\": null, \"entities\": {\"user_mentions\": [{\"indices\": [3, 10], \"id_str\": \"20536157\", \"name\": \"Google\", \"screen_name\": \"Google\", \"id\": 20536157}, {\"indices\": [23, 34], \"id_str\": \"254107028\", \"name\": \"TensorFlow\", \"screen_name\": \"TensorFlow\", \"id\": 254107028}], \"hashtags\": [], \"urls\": [], \"symbols\": []}, \"in_reply_to_screen_name\": null, \"favorite_count\": 0, \"place\": null}, \"followers_count\": 41928, \"is_translator\": false, \"profile_banner_url\": \"https://pbs.twimg.com/profile_banners/254107028/1473208179\", \"geo_enabled\": true, \"following\": false, \"contributors_enabled\": false, \"id\": 254107028, \"profile_background_image_url_https\": \"https://abs.twimg.com/images/themes/theme1/bg.png\", \"listed_count\": 547, \"lang\": \"en\", \"created_at\": \"Fri Feb 18 16:21:31 +0000 2011\", \"translator_type\": \"none\", \"profile_sidebar_border_color\": \"000000\", \"default_profile_image\": false, \"profile_image_url_https\": \"https://pbs.twimg.com/profile_images/773317101012586496/q8sc1KuZ_normal.jpg\", \"protected\": false, \"profile_link_color\": \"FAB81E\", \"entities\": {\"url\": {\"urls\": [{\"expanded_url\": \"http://tensorflow.org\", \"url\": \"https://t.co/gxgTGHp5yO\", \"indices\": [0, 23], \"display_url\": \"tensorflow.org\"}]}, \"description\": {\"urls\": []}}, \"profile_use_background_image\": false, \"default_profile\": false, \"favourites_count\": 125, \"url\": \"https://t.co/gxgTGHp5yO\", \"time_zone\": \"Pacific Time (US & Canada)\", \"friends_count\": 88}\n",
      "{\"profile_background_image_url\": \"http://abs.twimg.com/images/themes/theme15/bg.png\", \"verified\": false, \"id_str\": \"2895770934\", \"is_translation_enabled\": false, \"follow_request_sent\": false, \"screen_name\": \"DeepLearningHub\", \"description\": \"Account for Deep Learning related news, papers, software, reading materials and also other machine learning related news and facts\", \"profile_background_tile\": false, \"location\": \"\", \"has_extended_profile\": false, \"name\": \"Deep Learning Hub\", \"utc_offset\": 19800, \"profile_sidebar_fill_color\": \"C0DFEC\", \"statuses_count\": 2404, \"profile_text_color\": \"333333\", \"profile_image_url\": \"http://pbs.twimg.com/profile_images/534326120162656256/9pjHTMqm_normal.png\", \"profile_background_color\": \"022330\", \"notifications\": false, \"status\": {\"geo\": null, \"in_reply_to_user_id\": null, \"lang\": \"en\", \"is_quote_status\": false, \"id_str\": \"872164171164651520\", \"retweet_count\": 210, \"text\": \"RT @gcosma1: A must read! An Overview of Multi-Task Learning in Deep Neural Networks  https://t.co/KHZPbJgDGL #DeepLearning  #transfer lear\\u2026\", \"favorited\": false, \"contributors\": null, \"retweeted_status\": {\"geo\": null, \"in_reply_to_user_id\": null, \"lang\": \"en\", \"is_quote_status\": false, \"id_str\": \"872153925125902336\", \"retweet_count\": 210, \"text\": \"A must read! An Overview of Multi-Task Learning in Deep Neural Networks  https://t.co/KHZPbJgDGL #DeepLearning\\u2026 https://t.co/PK12eeCvhW\", \"favorited\": false, \"contributors\": null, \"place\": null, \"truncated\": true, \"retweeted\": false, \"source\": \"<a href=\\\"http://twitter.com/download/android\\\" rel=\\\"nofollow\\\">Twitter for Android</a>\", \"in_reply_to_user_id_str\": null, \"in_reply_to_status_id\": null, \"possibly_sensitive\": false, \"in_reply_to_status_id_str\": null, \"created_at\": \"Tue Jun 06 18:11:14 +0000 2017\", \"id\": 872153925125902336, \"coordinates\": null, \"entities\": {\"user_mentions\": [], \"hashtags\": [{\"indices\": [97, 110], \"text\": \"DeepLearning\"}], \"urls\": [{\"expanded_url\": \"http://sebastianruder.com/multi-task/\", \"url\": \"https://t.co/KHZPbJgDGL\", \"indices\": [73, 96], \"display_url\": \"sebastianruder.com/multi-task/\"}, {\"expanded_url\": \"https://twitter.com/i/web/status/872153925125902336\", \"url\": \"https://t.co/PK12eeCvhW\", \"indices\": [112, 135], \"display_url\": \"twitter.com/i/web/status/8\\u2026\"}], \"symbols\": []}, \"in_reply_to_screen_name\": null, \"favorite_count\": 333}, \"truncated\": false, \"retweeted\": false, \"source\": \"<a href=\\\"http://bufferapp.com\\\" rel=\\\"nofollow\\\">Buffer</a>\", \"in_reply_to_user_id_str\": null, \"in_reply_to_status_id\": null, \"possibly_sensitive\": false, \"in_reply_to_status_id_str\": null, \"created_at\": \"Tue Jun 06 18:51:57 +0000 2017\", \"id\": 872164171164651520, \"coordinates\": null, \"entities\": {\"user_mentions\": [{\"indices\": [3, 11], \"id_str\": \"224161598\", \"name\": \"Georgina Cosma\", \"screen_name\": \"gcosma1\", \"id\": 224161598}], \"hashtags\": [{\"indices\": [110, 123], \"text\": \"DeepLearning\"}, {\"indices\": [125, 134], \"text\": \"transfer\"}], \"urls\": [{\"expanded_url\": \"http://sebastianruder.com/multi-task/\", \"url\": \"https://t.co/KHZPbJgDGL\", \"indices\": [86, 109], \"display_url\": \"sebastianruder.com/multi-task/\"}], \"symbols\": []}, \"in_reply_to_screen_name\": null, \"favorite_count\": 0, \"place\": null}, \"followers_count\": 38236, \"is_translator\": false, \"profile_banner_url\": \"https://pbs.twimg.com/profile_banners/2895770934/1427524254\", \"geo_enabled\": false, \"following\": false, \"contributors_enabled\": false, \"id\": 2895770934, \"profile_background_image_url_https\": \"https://abs.twimg.com/images/themes/theme15/bg.png\", \"listed_count\": 867, \"lang\": \"en\", \"created_at\": \"Mon Nov 10 16:29:34 +0000 2014\", \"translator_type\": \"none\", \"profile_sidebar_border_color\": \"A8C7F7\", \"default_profile_image\": false, \"profile_image_url_https\": \"https://pbs.twimg.com/profile_images/534326120162656256/9pjHTMqm_normal.png\", \"protected\": false, \"profile_link_color\": \"0084B4\", \"entities\": {\"url\": {\"urls\": [{\"expanded_url\": \"https://plus.google.com/107322247125350038821\", \"url\": \"https://t.co/fKXpPW5IVI\", \"indices\": [0, 23], \"display_url\": \"plus.google.com/10732224712535\\u2026\"}]}, \"description\": {\"urls\": []}}, \"profile_use_background_image\": true, \"default_profile\": false, \"favourites_count\": 387, \"url\": \"https://t.co/fKXpPW5IVI\", \"time_zone\": \"New Delhi\", \"friends_count\": 429}\n",
      "{\"id\": 254107028, \"id_str\": \"254107028\", \"name\": \"TensorFlow\", \"screen_name\": \"TensorFlow\", \"location\": \"Mountain View, CA\", \"description\": \"TensorFlow is a fast, flexible, and scalable open-source machine learning library for research and production.\", \"url\": \"https://t.co/gxgTGHp5yO\", \"entities\": {\"url\": {\"urls\": [{\"url\": \"https://t.co/gxgTGHp5yO\", \"expanded_url\": \"http://tensorflow.org\", \"display_url\": \"tensorflow.org\", \"indices\": [0, 23]}]}, \"description\": {\"urls\": []}}, \"protected\": false, \"followers_count\": 61146, \"friends_count\": 91, \"listed_count\": 811, \"created_at\": \"Fri Feb 18 16:21:31 +0000 2011\", \"favourites_count\": 125, \"utc_offset\": -28800, \"time_zone\": \"Pacific Time (US & Canada)\", \"geo_enabled\": true, \"verified\": true, \"statuses_count\": 201, \"lang\": \"en\", \"status\": {\"created_at\": \"Mon Feb 12 17:18:55 +0000 2018\", \"id\": 963100113617997825, \"id_str\": \"963100113617997825\", \"text\": \"We like fast hardware, and Cloud TPUs are now available in beta to help you train and run TensorFlow models really\\u2026 https://t.co/bzrgqvs4NN\", \"truncated\": true, \"entities\": {\"hashtags\": [], \"symbols\": [], \"user_mentions\": [], \"urls\": [{\"url\": \"https://t.co/bzrgqvs4NN\", \"expanded_url\": \"https://twitter.com/i/web/status/963100113617997825\", \"display_url\": \"twitter.com/i/web/status/9\\u2026\", \"indices\": [116, 139]}]}, \"source\": \"<a href=\\\"https://www.sprinklr.com\\\" rel=\\\"nofollow\\\">Sprinklr</a>\", \"in_reply_to_status_id\": null, \"in_reply_to_status_id_str\": null, \"in_reply_to_user_id\": null, \"in_reply_to_user_id_str\": null, \"in_reply_to_screen_name\": null, \"geo\": null, \"coordinates\": null, \"place\": null, \"contributors\": null, \"is_quote_status\": false, \"retweet_count\": 22, \"favorite_count\": 50, \"favorited\": false, \"retweeted\": false, \"possibly_sensitive\": false, \"lang\": \"en\"}, \"contributors_enabled\": false, \"is_translator\": false, \"is_translation_enabled\": false, \"profile_background_color\": \"000000\", \"profile_background_image_url\": \"http://abs.twimg.com/images/themes/theme1/bg.png\", \"profile_background_image_url_https\": \"https://abs.twimg.com/images/themes/theme1/bg.png\", \"profile_background_tile\": false, \"profile_image_url\": \"http://pbs.twimg.com/profile_images/773317101012586496/q8sc1KuZ_normal.jpg\", \"profile_image_url_https\": \"https://pbs.twimg.com/profile_images/773317101012586496/q8sc1KuZ_normal.jpg\", \"profile_banner_url\": \"https://pbs.twimg.com/profile_banners/254107028/1473208179\", \"profile_link_color\": \"FAB81E\", \"profile_sidebar_border_color\": \"000000\", \"profile_sidebar_fill_color\": \"000000\", \"profile_text_color\": \"000000\", \"profile_use_background_image\": false, \"has_extended_profile\": false, \"default_profile\": false, \"default_profile_image\": false, \"following\": false, \"follow_request_sent\": false, \"notifications\": false, \"translator_type\": \"none\"}\n",
      "{\"id\": 2895770934, \"id_str\": \"2895770934\", \"name\": \"Deep Learning Hub\", \"screen_name\": \"DeepLearningHub\", \"location\": \"\", \"description\": \"Account for Deep Learning related news, papers, software, reading materials and also other machine learning related news and facts\", \"url\": \"https://t.co/fKXpPW5IVI\", \"entities\": {\"url\": {\"urls\": [{\"url\": \"https://t.co/fKXpPW5IVI\", \"expanded_url\": \"https://plus.google.com/107322247125350038821\", \"display_url\": \"plus.google.com/10732224712535\\u2026\", \"indices\": [0, 23]}]}, \"description\": {\"urls\": []}}, \"protected\": false, \"followers_count\": 45100, \"friends_count\": 436, \"listed_count\": 973, \"created_at\": \"Mon Nov 10 16:29:34 +0000 2014\", \"favourites_count\": 386, \"utc_offset\": 19800, \"time_zone\": \"New Delhi\", \"geo_enabled\": false, \"verified\": false, \"statuses_count\": 2434, \"lang\": \"en\", \"status\": {\"created_at\": \"Wed Jan 10 15:38:00 +0000 2018\", \"id\": 951115919929077760, \"id_str\": \"951115919929077760\", \"text\": \"RT @jeremyphoward: @yoavgo @nlpmattg @seb_ruder @Smerity @dennybritz A good example of a paper that pulls together quite a few useful techn\\u2026\", \"truncated\": false, \"entities\": {\"hashtags\": [], \"symbols\": [], \"user_mentions\": [{\"screen_name\": \"jeremyphoward\", \"name\": \"Jeremy Howard\", \"id\": 175282603, \"id_str\": \"175282603\", \"indices\": [3, 17]}, {\"screen_name\": \"yoavgo\", \"name\": \"(((\\u03bb()(\\u03bb() 'yoav))))\", \"id\": 39547749, \"id_str\": \"39547749\", \"indices\": [19, 26]}, {\"screen_name\": \"nlpmattg\", \"name\": \"Matt Gardner\", \"id\": 866469276978364416, \"id_str\": \"866469276978364416\", \"indices\": [27, 36]}, {\"screen_name\": \"seb_ruder\", \"name\": \"Sebastian Ruder\", \"id\": 2785337469, \"id_str\": \"2785337469\", \"indices\": [37, 47]}, {\"screen_name\": \"Smerity\", \"name\": \"Smerity\", \"id\": 15363432, \"id_str\": \"15363432\", \"indices\": [48, 56]}, {\"screen_name\": \"dennybritz\", \"name\": \"Denny Britz\", \"id\": 11766442, \"id_str\": \"11766442\", \"indices\": [57, 68]}], \"urls\": []}, \"source\": \"<a href=\\\"http://bufferapp.com\\\" rel=\\\"nofollow\\\">Buffer</a>\", \"in_reply_to_status_id\": null, \"in_reply_to_status_id_str\": null, \"in_reply_to_user_id\": null, \"in_reply_to_user_id_str\": null, \"in_reply_to_screen_name\": null, \"geo\": null, \"coordinates\": null, \"place\": null, \"contributors\": null, \"retweeted_status\": {\"created_at\": \"Tue Jan 09 18:19:28 +0000 2018\", \"id\": 950794163297009664, \"id_str\": \"950794163297009664\", \"text\": \"@yoavgo @nlpmattg @seb_ruder @Smerity @dennybritz A good example of a paper that pulls together quite a few useful\\u2026 https://t.co/wmbH9diMXO\", \"truncated\": true, \"entities\": {\"hashtags\": [], \"symbols\": [], \"user_mentions\": [{\"screen_name\": \"yoavgo\", \"name\": \"(((\\u03bb()(\\u03bb() 'yoav))))\", \"id\": 39547749, \"id_str\": \"39547749\", \"indices\": [0, 7]}, {\"screen_name\": \"nlpmattg\", \"name\": \"Matt Gardner\", \"id\": 866469276978364416, \"id_str\": \"866469276978364416\", \"indices\": [8, 17]}, {\"screen_name\": \"seb_ruder\", \"name\": \"Sebastian Ruder\", \"id\": 2785337469, \"id_str\": \"2785337469\", \"indices\": [18, 28]}, {\"screen_name\": \"Smerity\", \"name\": \"Smerity\", \"id\": 15363432, \"id_str\": \"15363432\", \"indices\": [29, 37]}, {\"screen_name\": \"dennybritz\", \"name\": \"Denny Britz\", \"id\": 11766442, \"id_str\": \"11766442\", \"indices\": [38, 49]}], \"urls\": [{\"url\": \"https://t.co/wmbH9diMXO\", \"expanded_url\": \"https://twitter.com/i/web/status/950794163297009664\", \"display_url\": \"twitter.com/i/web/status/9\\u2026\", \"indices\": [116, 139]}]}, \"source\": \"<a href=\\\"http://twitter.com\\\" rel=\\\"nofollow\\\">Twitter Web Client</a>\", \"in_reply_to_status_id\": 950775709215191040, \"in_reply_to_status_id_str\": \"950775709215191040\", \"in_reply_to_user_id\": 39547749, \"in_reply_to_user_id_str\": \"39547749\", \"in_reply_to_screen_name\": \"yoavgo\", \"geo\": null, \"coordinates\": null, \"place\": null, \"contributors\": null, \"is_quote_status\": false, \"retweet_count\": 15, \"favorite_count\": 27, \"favorited\": false, \"retweeted\": false, \"possibly_sensitive\": false, \"lang\": \"en\"}, \"is_quote_status\": false, \"retweet_count\": 15, \"favorite_count\": 0, \"favorited\": false, \"retweeted\": false, \"lang\": \"en\"}, \"contributors_enabled\": false, \"is_translator\": false, \"is_translation_enabled\": false, \"profile_background_color\": \"022330\", \"profile_background_image_url\": \"http://abs.twimg.com/images/themes/theme15/bg.png\", \"profile_background_image_url_https\": \"https://abs.twimg.com/images/themes/theme15/bg.png\", \"profile_background_tile\": false, \"profile_image_url\": \"http://pbs.twimg.com/profile_images/534326120162656256/9pjHTMqm_normal.png\", \"profile_image_url_https\": \"https://pbs.twimg.com/profile_images/534326120162656256/9pjHTMqm_normal.png\", \"profile_banner_url\": \"https://pbs.twimg.com/profile_banners/2895770934/1427524254\", \"profile_link_color\": \"0084B4\", \"profile_sidebar_border_color\": \"A8C7F7\", \"profile_sidebar_fill_color\": \"C0DFEC\", \"profile_text_color\": \"333333\", \"profile_use_background_image\": true, \"has_extended_profile\": false, \"default_profile\": false, \"default_profile_image\": false, \"following\": false, \"follow_request_sent\": false, \"notifications\": false, \"translator_type\": \"none\"}\n",
      "{\"id\": 254107028, \"id_str\": \"254107028\", \"name\": \"TensorFlow\", \"screen_name\": \"TensorFlow\", \"location\": \"Mountain View, CA\", \"description\": \"TensorFlow is a fast, flexible, and scalable open-source machine learning library for research and production.\", \"url\": \"https://t.co/gxgTGHp5yO\", \"entities\": {\"url\": {\"urls\": [{\"url\": \"https://t.co/gxgTGHp5yO\", \"expanded_url\": \"http://tensorflow.org\", \"display_url\": \"tensorflow.org\", \"indices\": [0, 23]}]}, \"description\": {\"urls\": []}}, \"protected\": false, \"followers_count\": 102995, \"friends_count\": 91, \"listed_count\": 1256, \"created_at\": \"Fri Feb 18 16:21:31 +0000 2011\", \"favourites_count\": 130, \"utc_offset\": null, \"time_zone\": null, \"geo_enabled\": true, \"verified\": true, \"statuses_count\": 424, \"lang\": \"en\", \"status\": {\"created_at\": \"Thu Sep 20 18:54:49 +0000 2018\", \"id\": 1042849580554088448, \"id_str\": \"1042849580554088448\", \"text\": \"Last week, we pre-processed our data for text classification training. Now, @lmoroney shows you how to design a neu\\u2026 https://t.co/pzIY1VOLv3\", \"truncated\": true, \"entities\": {\"hashtags\": [], \"symbols\": [], \"user_mentions\": [{\"screen_name\": \"lmoroney\", \"name\": \"Laurence Moroney\", \"id\": 5659072, \"id_str\": \"5659072\", \"indices\": [76, 85]}], \"urls\": [{\"url\": \"https://t.co/pzIY1VOLv3\", \"expanded_url\": \"https://twitter.com/i/web/status/1042849580554088448\", \"display_url\": \"twitter.com/i/web/status/1\\u2026\", \"indices\": [117, 140]}]}, \"source\": \"<a href=\\\"https://www.sprinklr.com\\\" rel=\\\"nofollow\\\">Sprinklr</a>\", \"in_reply_to_status_id\": null, \"in_reply_to_status_id_str\": null, \"in_reply_to_user_id\": null, \"in_reply_to_user_id_str\": null, \"in_reply_to_screen_name\": null, \"geo\": null, \"coordinates\": null, \"place\": null, \"contributors\": null, \"is_quote_status\": false, \"retweet_count\": 36, \"favorite_count\": 105, \"favorited\": false, \"retweeted\": false, \"possibly_sensitive\": false, \"lang\": \"en\"}, \"contributors_enabled\": false, \"is_translator\": false, \"is_translation_enabled\": false, \"profile_background_color\": \"000000\", \"profile_background_image_url\": \"http://abs.twimg.com/images/themes/theme1/bg.png\", \"profile_background_image_url_https\": \"https://abs.twimg.com/images/themes/theme1/bg.png\", \"profile_background_tile\": false, \"profile_image_url\": \"http://pbs.twimg.com/profile_images/773317101012586496/q8sc1KuZ_normal.jpg\", \"profile_image_url_https\": \"https://pbs.twimg.com/profile_images/773317101012586496/q8sc1KuZ_normal.jpg\", \"profile_banner_url\": \"https://pbs.twimg.com/profile_banners/254107028/1473208179\", \"profile_link_color\": \"FAB81E\", \"profile_sidebar_border_color\": \"000000\", \"profile_sidebar_fill_color\": \"000000\", \"profile_text_color\": \"000000\", \"profile_use_background_image\": false, \"has_extended_profile\": false, \"default_profile\": false, \"default_profile_image\": false, \"following\": false, \"follow_request_sent\": false, \"notifications\": false, \"translator_type\": \"none\"}\n",
      "{\"id\": 2895770934, \"id_str\": \"2895770934\", \"name\": \"Deep Learning Hub\", \"screen_name\": \"DeepLearningHub\", \"location\": \"\", \"description\": \"Account for Deep Learning related news, papers, software, reading materials and also other machine learning related news and facts\", \"url\": \"https://t.co/fKXpPW5IVI\", \"entities\": {\"url\": {\"urls\": [{\"url\": \"https://t.co/fKXpPW5IVI\", \"expanded_url\": \"https://plus.google.com/107322247125350038821\", \"display_url\": \"plus.google.com/10732224712535\\u2026\", \"indices\": [0, 23]}]}, \"description\": {\"urls\": []}}, \"protected\": false, \"followers_count\": 52793, \"friends_count\": 439, \"listed_count\": 1063, \"created_at\": \"Mon Nov 10 16:29:34 +0000 2014\", \"favourites_count\": 388, \"utc_offset\": null, \"time_zone\": null, \"geo_enabled\": false, \"verified\": false, \"statuses_count\": 2431, \"lang\": \"en\", \"status\": {\"created_at\": \"Tue Apr 03 06:35:52 +0000 2018\", \"id\": 981057678565892096, \"id_str\": \"981057678565892096\", \"text\": \"RT @DarshanaN: Tomorrow Tue 4/3 talk on \\\"Deep Learning &amp; its application in Medicine\\\" at 456 W. Olive Avenue, Sunnyvale. This is a free eve\\u2026\", \"truncated\": false, \"entities\": {\"hashtags\": [], \"symbols\": [], \"user_mentions\": [{\"screen_name\": \"DarshanaN\", \"name\": \"Dr Darshana Nadkarni\", \"id\": 24947616, \"id_str\": \"24947616\", \"indices\": [3, 13]}], \"urls\": []}, \"source\": \"<a href=\\\"https://about.twitter.com/products/tweetdeck\\\" rel=\\\"nofollow\\\">TweetDeck</a>\", \"in_reply_to_status_id\": null, \"in_reply_to_status_id_str\": null, \"in_reply_to_user_id\": null, \"in_reply_to_user_id_str\": null, \"in_reply_to_screen_name\": null, \"geo\": null, \"coordinates\": null, \"place\": null, \"contributors\": null, \"retweeted_status\": {\"created_at\": \"Tue Apr 03 04:40:55 +0000 2018\", \"id\": 981028752179122176, \"id_str\": \"981028752179122176\", \"text\": \"Tomorrow Tue 4/3 talk on \\\"Deep Learning &amp; its application in Medicine\\\" at 456 W. Olive Avenue, Sunnyvale. This is a\\u2026 https://t.co/wsMvHjpvhC\", \"truncated\": true, \"entities\": {\"hashtags\": [], \"symbols\": [], \"user_mentions\": [], \"urls\": [{\"url\": \"https://t.co/wsMvHjpvhC\", \"expanded_url\": \"https://twitter.com/i/web/status/981028752179122176\", \"display_url\": \"twitter.com/i/web/status/9\\u2026\", \"indices\": [121, 144]}]}, \"source\": \"<a href=\\\"http://twitter.com\\\" rel=\\\"nofollow\\\">Twitter Web Client</a>\", \"in_reply_to_status_id\": null, \"in_reply_to_status_id_str\": null, \"in_reply_to_user_id\": null, \"in_reply_to_user_id_str\": null, \"in_reply_to_screen_name\": null, \"geo\": null, \"coordinates\": null, \"place\": {\"id\": \"30344aecffe6a491\", \"url\": \"https://api.twitter.com/1.1/geo/id/30344aecffe6a491.json\", \"place_type\": \"city\", \"name\": \"Fremont\", \"full_name\": \"Fremont, CA\", \"country_code\": \"US\", \"country\": \"United States\", \"contained_within\": [], \"bounding_box\": {\"type\": \"Polygon\", \"coordinates\": [[[-122.069956, 37.454962], [-121.889098, 37.454962], [-121.889098, 37.592327], [-122.069956, 37.592327]]]}, \"attributes\": {}}, \"contributors\": null, \"is_quote_status\": false, \"retweet_count\": 6, \"favorite_count\": 22, \"favorited\": false, \"retweeted\": false, \"lang\": \"en\"}, \"is_quote_status\": false, \"retweet_count\": 6, \"favorite_count\": 0, \"favorited\": false, \"retweeted\": false, \"lang\": \"en\"}, \"contributors_enabled\": false, \"is_translator\": false, \"is_translation_enabled\": false, \"profile_background_color\": \"022330\", \"profile_background_image_url\": \"http://abs.twimg.com/images/themes/theme15/bg.png\", \"profile_background_image_url_https\": \"https://abs.twimg.com/images/themes/theme15/bg.png\", \"profile_background_tile\": false, \"profile_image_url\": \"http://pbs.twimg.com/profile_images/534326120162656256/9pjHTMqm_normal.png\", \"profile_image_url_https\": \"https://pbs.twimg.com/profile_images/534326120162656256/9pjHTMqm_normal.png\", \"profile_banner_url\": \"https://pbs.twimg.com/profile_banners/2895770934/1427524254\", \"profile_link_color\": \"0084B4\", \"profile_sidebar_border_color\": \"A8C7F7\", \"profile_sidebar_fill_color\": \"C0DFEC\", \"profile_text_color\": \"333333\", \"profile_use_background_image\": true, \"has_extended_profile\": false, \"default_profile\": false, \"default_profile_image\": false, \"following\": false, \"follow_request_sent\": false, \"notifications\": false, \"translator_type\": \"none\"}\n",
      "{\"id\": 254107028, \"id_str\": \"254107028\", \"name\": \"TensorFlow\", \"screen_name\": \"TensorFlow\", \"location\": \"Mountain View, CA\", \"description\": \"TensorFlow is a fast, flexible, and scalable open-source machine learning library for research and production.\", \"url\": \"https://t.co/gxgTGHp5yO\", \"entities\": {\"url\": {\"urls\": [{\"url\": \"https://t.co/gxgTGHp5yO\", \"expanded_url\": \"http://tensorflow.org\", \"display_url\": \"tensorflow.org\", \"indices\": [0, 23]}]}, \"description\": {\"urls\": []}}, \"protected\": false, \"followers_count\": 103680, \"friends_count\": 91, \"listed_count\": 1262, \"created_at\": \"Fri Feb 18 16:21:31 +0000 2011\", \"favourites_count\": 130, \"utc_offset\": null, \"time_zone\": null, \"geo_enabled\": true, \"verified\": true, \"statuses_count\": 425, \"lang\": \"en\", \"status\": {\"created_at\": \"Fri Sep 21 18:17:01 +0000 2018\", \"id\": 1043202452374339587, \"id_str\": \"1043202452374339587\", \"text\": \"Congrats to @Qualcomm on winning track one of the Low-Power Image Recognition Challenge (LPIRC), with\\u2026 https://t.co/iO2SXotGF8\", \"truncated\": true, \"entities\": {\"hashtags\": [], \"symbols\": [], \"user_mentions\": [{\"screen_name\": \"Qualcomm\", \"name\": \"Qualcomm\", \"id\": 84623395, \"id_str\": \"84623395\", \"indices\": [12, 21]}], \"urls\": [{\"url\": \"https://t.co/iO2SXotGF8\", \"expanded_url\": \"https://twitter.com/i/web/status/1043202452374339587\", \"display_url\": \"twitter.com/i/web/status/1\\u2026\", \"indices\": [103, 126]}]}, \"source\": \"<a href=\\\"https://www.sprinklr.com\\\" rel=\\\"nofollow\\\">Sprinklr</a>\", \"in_reply_to_status_id\": null, \"in_reply_to_status_id_str\": null, \"in_reply_to_user_id\": null, \"in_reply_to_user_id_str\": null, \"in_reply_to_screen_name\": null, \"geo\": null, \"coordinates\": null, \"place\": null, \"contributors\": null, \"is_quote_status\": false, \"retweet_count\": 68, \"favorite_count\": 262, \"favorited\": false, \"retweeted\": false, \"possibly_sensitive\": false, \"lang\": \"en\"}, \"contributors_enabled\": false, \"is_translator\": false, \"is_translation_enabled\": false, \"profile_background_color\": \"000000\", \"profile_background_image_url\": \"http://abs.twimg.com/images/themes/theme1/bg.png\", \"profile_background_image_url_https\": \"https://abs.twimg.com/images/themes/theme1/bg.png\", \"profile_background_tile\": false, \"profile_image_url\": \"http://pbs.twimg.com/profile_images/773317101012586496/q8sc1KuZ_normal.jpg\", \"profile_image_url_https\": \"https://pbs.twimg.com/profile_images/773317101012586496/q8sc1KuZ_normal.jpg\", \"profile_banner_url\": \"https://pbs.twimg.com/profile_banners/254107028/1473208179\", \"profile_link_color\": \"FAB81E\", \"profile_sidebar_border_color\": \"000000\", \"profile_sidebar_fill_color\": \"000000\", \"profile_text_color\": \"000000\", \"profile_use_background_image\": false, \"has_extended_profile\": false, \"default_profile\": false, \"default_profile_image\": false, \"following\": false, \"follow_request_sent\": false, \"notifications\": false, \"translator_type\": \"none\"}\n",
      "{\"id\": 2895770934, \"id_str\": \"2895770934\", \"name\": \"Deep Learning Hub\", \"screen_name\": \"DeepLearningHub\", \"location\": \"\", \"description\": \"Account for Deep Learning related news, papers, software, reading materials and also other machine learning related news and facts\", \"url\": \"https://t.co/fKXpPW5IVI\", \"entities\": {\"url\": {\"urls\": [{\"url\": \"https://t.co/fKXpPW5IVI\", \"expanded_url\": \"https://plus.google.com/107322247125350038821\", \"display_url\": \"plus.google.com/10732224712535\\u2026\", \"indices\": [0, 23]}]}, \"description\": {\"urls\": []}}, \"protected\": false, \"followers_count\": 52859, \"friends_count\": 439, \"listed_count\": 1066, \"created_at\": \"Mon Nov 10 16:29:34 +0000 2014\", \"favourites_count\": 388, \"utc_offset\": null, \"time_zone\": null, \"geo_enabled\": false, \"verified\": false, \"statuses_count\": 2431, \"lang\": \"en\", \"status\": {\"created_at\": \"Tue Apr 03 06:35:52 +0000 2018\", \"id\": 981057678565892096, \"id_str\": \"981057678565892096\", \"text\": \"RT @DarshanaN: Tomorrow Tue 4/3 talk on \\\"Deep Learning &amp; its application in Medicine\\\" at 456 W. Olive Avenue, Sunnyvale. This is a free eve\\u2026\", \"truncated\": false, \"entities\": {\"hashtags\": [], \"symbols\": [], \"user_mentions\": [{\"screen_name\": \"DarshanaN\", \"name\": \"Dr Darshana Nadkarni\", \"id\": 24947616, \"id_str\": \"24947616\", \"indices\": [3, 13]}], \"urls\": []}, \"source\": \"<a href=\\\"https://about.twitter.com/products/tweetdeck\\\" rel=\\\"nofollow\\\">TweetDeck</a>\", \"in_reply_to_status_id\": null, \"in_reply_to_status_id_str\": null, \"in_reply_to_user_id\": null, \"in_reply_to_user_id_str\": null, \"in_reply_to_screen_name\": null, \"geo\": null, \"coordinates\": null, \"place\": null, \"contributors\": null, \"retweeted_status\": {\"created_at\": \"Tue Apr 03 04:40:55 +0000 2018\", \"id\": 981028752179122176, \"id_str\": \"981028752179122176\", \"text\": \"Tomorrow Tue 4/3 talk on \\\"Deep Learning &amp; its application in Medicine\\\" at 456 W. Olive Avenue, Sunnyvale. This is a\\u2026 https://t.co/wsMvHjpvhC\", \"truncated\": true, \"entities\": {\"hashtags\": [], \"symbols\": [], \"user_mentions\": [], \"urls\": [{\"url\": \"https://t.co/wsMvHjpvhC\", \"expanded_url\": \"https://twitter.com/i/web/status/981028752179122176\", \"display_url\": \"twitter.com/i/web/status/9\\u2026\", \"indices\": [121, 144]}]}, \"source\": \"<a href=\\\"http://twitter.com\\\" rel=\\\"nofollow\\\">Twitter Web Client</a>\", \"in_reply_to_status_id\": null, \"in_reply_to_status_id_str\": null, \"in_reply_to_user_id\": null, \"in_reply_to_user_id_str\": null, \"in_reply_to_screen_name\": null, \"geo\": null, \"coordinates\": null, \"place\": {\"id\": \"30344aecffe6a491\", \"url\": \"https://api.twitter.com/1.1/geo/id/30344aecffe6a491.json\", \"place_type\": \"city\", \"name\": \"Fremont\", \"full_name\": \"Fremont, CA\", \"country_code\": \"US\", \"country\": \"United States\", \"contained_within\": [], \"bounding_box\": {\"type\": \"Polygon\", \"coordinates\": [[[-122.069956, 37.454962], [-121.889098, 37.454962], [-121.889098, 37.592327], [-122.069956, 37.592327]]]}, \"attributes\": {}}, \"contributors\": null, \"is_quote_status\": false, \"retweet_count\": 6, \"favorite_count\": 22, \"favorited\": false, \"retweeted\": false, \"lang\": \"en\"}, \"is_quote_status\": false, \"retweet_count\": 6, \"favorite_count\": 0, \"favorited\": false, \"retweeted\": false, \"lang\": \"en\"}, \"contributors_enabled\": false, \"is_translator\": false, \"is_translation_enabled\": false, \"profile_background_color\": \"022330\", \"profile_background_image_url\": \"http://abs.twimg.com/images/themes/theme15/bg.png\", \"profile_background_image_url_https\": \"https://abs.twimg.com/images/themes/theme15/bg.png\", \"profile_background_tile\": false, \"profile_image_url\": \"http://pbs.twimg.com/profile_images/534326120162656256/9pjHTMqm_normal.png\", \"profile_image_url_https\": \"https://pbs.twimg.com/profile_images/534326120162656256/9pjHTMqm_normal.png\", \"profile_banner_url\": \"https://pbs.twimg.com/profile_banners/2895770934/1427524254\", \"profile_link_color\": \"0084B4\", \"profile_sidebar_border_color\": \"A8C7F7\", \"profile_sidebar_fill_color\": \"C0DFEC\", \"profile_text_color\": \"333333\", \"profile_use_background_image\": true, \"has_extended_profile\": false, \"default_profile\": false, \"default_profile_image\": false, \"following\": false, \"follow_request_sent\": false, \"notifications\": false, \"translator_type\": \"none\"}\n",
      "{\"id\": 254107028, \"id_str\": \"254107028\", \"name\": \"TensorFlow\", \"screen_name\": \"TensorFlow\", \"location\": \"Mountain View, CA\", \"description\": \"TensorFlow is a fast, flexible, and scalable open-source machine learning library for research and production.\", \"url\": \"https://t.co/gxgTGHp5yO\", \"entities\": {\"url\": {\"urls\": [{\"url\": \"https://t.co/gxgTGHp5yO\", \"expanded_url\": \"http://tensorflow.org\", \"display_url\": \"tensorflow.org\", \"indices\": [0, 23]}]}, \"description\": {\"urls\": []}}, \"protected\": false, \"followers_count\": 103759, \"friends_count\": 91, \"listed_count\": 1266, \"created_at\": \"Fri Feb 18 16:21:31 +0000 2011\", \"favourites_count\": 130, \"utc_offset\": null, \"time_zone\": null, \"geo_enabled\": true, \"verified\": true, \"statuses_count\": 425, \"lang\": \"en\", \"status\": {\"created_at\": \"Fri Sep 21 18:17:01 +0000 2018\", \"id\": 1043202452374339587, \"id_str\": \"1043202452374339587\", \"text\": \"Congrats to @Qualcomm on winning track one of the Low-Power Image Recognition Challenge (LPIRC), with\\u2026 https://t.co/iO2SXotGF8\", \"truncated\": true, \"entities\": {\"hashtags\": [], \"symbols\": [], \"user_mentions\": [{\"screen_name\": \"Qualcomm\", \"name\": \"Qualcomm\", \"id\": 84623395, \"id_str\": \"84623395\", \"indices\": [12, 21]}], \"urls\": [{\"url\": \"https://t.co/iO2SXotGF8\", \"expanded_url\": \"https://twitter.com/i/web/status/1043202452374339587\", \"display_url\": \"twitter.com/i/web/status/1\\u2026\", \"indices\": [103, 126]}]}, \"source\": \"<a href=\\\"https://www.sprinklr.com\\\" rel=\\\"nofollow\\\">Sprinklr</a>\", \"in_reply_to_status_id\": null, \"in_reply_to_status_id_str\": null, \"in_reply_to_user_id\": null, \"in_reply_to_user_id_str\": null, \"in_reply_to_screen_name\": null, \"geo\": null, \"coordinates\": null, \"place\": null, \"contributors\": null, \"is_quote_status\": false, \"retweet_count\": 68, \"favorite_count\": 265, \"favorited\": false, \"retweeted\": false, \"possibly_sensitive\": false, \"lang\": \"en\"}, \"contributors_enabled\": false, \"is_translator\": false, \"is_translation_enabled\": false, \"profile_background_color\": \"000000\", \"profile_background_image_url\": \"http://abs.twimg.com/images/themes/theme1/bg.png\", \"profile_background_image_url_https\": \"https://abs.twimg.com/images/themes/theme1/bg.png\", \"profile_background_tile\": false, \"profile_image_url\": \"http://pbs.twimg.com/profile_images/773317101012586496/q8sc1KuZ_normal.jpg\", \"profile_image_url_https\": \"https://pbs.twimg.com/profile_images/773317101012586496/q8sc1KuZ_normal.jpg\", \"profile_banner_url\": \"https://pbs.twimg.com/profile_banners/254107028/1473208179\", \"profile_link_color\": \"FAB81E\", \"profile_sidebar_border_color\": \"000000\", \"profile_sidebar_fill_color\": \"000000\", \"profile_text_color\": \"000000\", \"profile_use_background_image\": false, \"has_extended_profile\": false, \"default_profile\": false, \"default_profile_image\": false, \"following\": false, \"follow_request_sent\": false, \"notifications\": false, \"translator_type\": \"none\"}\n",
      "{\"id\": 2895770934, \"id_str\": \"2895770934\", \"name\": \"Deep Learning Hub\", \"screen_name\": \"DeepLearningHub\", \"location\": \"\", \"description\": \"Account for Deep Learning related news, papers, software, reading materials and also other machine learning related news and facts\", \"url\": \"https://t.co/fKXpPW5IVI\", \"entities\": {\"url\": {\"urls\": [{\"url\": \"https://t.co/fKXpPW5IVI\", \"expanded_url\": \"https://plus.google.com/107322247125350038821\", \"display_url\": \"plus.google.com/10732224712535\\u2026\", \"indices\": [0, 23]}]}, \"description\": {\"urls\": []}}, \"protected\": false, \"followers_count\": 52875, \"friends_count\": 439, \"listed_count\": 1066, \"created_at\": \"Mon Nov 10 16:29:34 +0000 2014\", \"favourites_count\": 388, \"utc_offset\": null, \"time_zone\": null, \"geo_enabled\": false, \"verified\": false, \"statuses_count\": 2431, \"lang\": \"en\", \"status\": {\"created_at\": \"Tue Apr 03 06:35:52 +0000 2018\", \"id\": 981057678565892096, \"id_str\": \"981057678565892096\", \"text\": \"RT @DarshanaN: Tomorrow Tue 4/3 talk on \\\"Deep Learning &amp; its application in Medicine\\\" at 456 W. Olive Avenue, Sunnyvale. This is a free eve\\u2026\", \"truncated\": false, \"entities\": {\"hashtags\": [], \"symbols\": [], \"user_mentions\": [{\"screen_name\": \"DarshanaN\", \"name\": \"Dr Darshana Nadkarni\", \"id\": 24947616, \"id_str\": \"24947616\", \"indices\": [3, 13]}], \"urls\": []}, \"source\": \"<a href=\\\"https://about.twitter.com/products/tweetdeck\\\" rel=\\\"nofollow\\\">TweetDeck</a>\", \"in_reply_to_status_id\": null, \"in_reply_to_status_id_str\": null, \"in_reply_to_user_id\": null, \"in_reply_to_user_id_str\": null, \"in_reply_to_screen_name\": null, \"geo\": null, \"coordinates\": null, \"place\": null, \"contributors\": null, \"retweeted_status\": {\"created_at\": \"Tue Apr 03 04:40:55 +0000 2018\", \"id\": 981028752179122176, \"id_str\": \"981028752179122176\", \"text\": \"Tomorrow Tue 4/3 talk on \\\"Deep Learning &amp; its application in Medicine\\\" at 456 W. Olive Avenue, Sunnyvale. This is a\\u2026 https://t.co/wsMvHjpvhC\", \"truncated\": true, \"entities\": {\"hashtags\": [], \"symbols\": [], \"user_mentions\": [], \"urls\": [{\"url\": \"https://t.co/wsMvHjpvhC\", \"expanded_url\": \"https://twitter.com/i/web/status/981028752179122176\", \"display_url\": \"twitter.com/i/web/status/9\\u2026\", \"indices\": [121, 144]}]}, \"source\": \"<a href=\\\"http://twitter.com\\\" rel=\\\"nofollow\\\">Twitter Web Client</a>\", \"in_reply_to_status_id\": null, \"in_reply_to_status_id_str\": null, \"in_reply_to_user_id\": null, \"in_reply_to_user_id_str\": null, \"in_reply_to_screen_name\": null, \"geo\": null, \"coordinates\": null, \"place\": {\"id\": \"30344aecffe6a491\", \"url\": \"https://api.twitter.com/1.1/geo/id/30344aecffe6a491.json\", \"place_type\": \"city\", \"name\": \"Fremont\", \"full_name\": \"Fremont, CA\", \"country_code\": \"US\", \"country\": \"United States\", \"contained_within\": [], \"bounding_box\": {\"type\": \"Polygon\", \"coordinates\": [[[-122.069956, 37.454962], [-121.889098, 37.454962], [-121.889098, 37.592327], [-122.069956, 37.592327]]]}, \"attributes\": {}}, \"contributors\": null, \"is_quote_status\": false, \"retweet_count\": 6, \"favorite_count\": 23, \"favorited\": false, \"retweeted\": false, \"lang\": \"en\"}, \"is_quote_status\": false, \"retweet_count\": 6, \"favorite_count\": 0, \"favorited\": false, \"retweeted\": false, \"lang\": \"en\"}, \"contributors_enabled\": false, \"is_translator\": false, \"is_translation_enabled\": false, \"profile_background_color\": \"022330\", \"profile_background_image_url\": \"http://abs.twimg.com/images/themes/theme15/bg.png\", \"profile_background_image_url_https\": \"https://abs.twimg.com/images/themes/theme15/bg.png\", \"profile_background_tile\": false, \"profile_image_url\": \"http://pbs.twimg.com/profile_images/534326120162656256/9pjHTMqm_normal.png\", \"profile_image_url_https\": \"https://pbs.twimg.com/profile_images/534326120162656256/9pjHTMqm_normal.png\", \"profile_banner_url\": \"https://pbs.twimg.com/profile_banners/2895770934/1427524254\", \"profile_link_color\": \"0084B4\", \"profile_sidebar_border_color\": \"A8C7F7\", \"profile_sidebar_fill_color\": \"C0DFEC\", \"profile_text_color\": \"333333\", \"profile_use_background_image\": true, \"has_extended_profile\": false, \"default_profile\": false, \"default_profile_image\": false, \"following\": false, \"follow_request_sent\": false, \"notifications\": false, \"translator_type\": \"none\"}\n",
      "{\"id\": 254107028, \"id_str\": \"254107028\", \"name\": \"TensorFlow\", \"screen_name\": \"TensorFlow\", \"location\": \"Mountain View, CA\", \"description\": \"TensorFlow is a fast, flexible, and scalable open-source machine learning library for research and production.\", \"url\": \"https://t.co/gxgTGHp5yO\", \"entities\": {\"url\": {\"urls\": [{\"url\": \"https://t.co/gxgTGHp5yO\", \"expanded_url\": \"http://tensorflow.org\", \"display_url\": \"tensorflow.org\", \"indices\": [0, 23]}]}, \"description\": {\"urls\": []}}, \"protected\": false, \"followers_count\": 104337, \"friends_count\": 91, \"listed_count\": 1272, \"created_at\": \"Fri Feb 18 16:21:31 +0000 2011\", \"favourites_count\": 130, \"utc_offset\": null, \"time_zone\": null, \"geo_enabled\": true, \"verified\": true, \"statuses_count\": 426, \"lang\": \"en\", \"status\": {\"created_at\": \"Thu Sep 27 21:21:12 +0000 2018\", \"id\": 1045423130867429376, \"id_str\": \"1045423130867429376\", \"text\": \"TensorFlow 1.11.0 has been released! Please see the full release notes for details on added features and changes.\\u2026 https://t.co/u7wuV4doDW\", \"truncated\": true, \"entities\": {\"hashtags\": [], \"symbols\": [], \"user_mentions\": [], \"urls\": [{\"url\": \"https://t.co/u7wuV4doDW\", \"expanded_url\": \"https://twitter.com/i/web/status/1045423130867429376\", \"display_url\": \"twitter.com/i/web/status/1\\u2026\", \"indices\": [115, 138]}]}, \"source\": \"<a href=\\\"http://twitter.com\\\" rel=\\\"nofollow\\\">Twitter Web Client</a>\", \"in_reply_to_status_id\": null, \"in_reply_to_status_id_str\": null, \"in_reply_to_user_id\": null, \"in_reply_to_user_id_str\": null, \"in_reply_to_screen_name\": null, \"geo\": null, \"coordinates\": null, \"place\": null, \"contributors\": null, \"is_quote_status\": false, \"retweet_count\": 165, \"favorite_count\": 375, \"favorited\": false, \"retweeted\": false, \"possibly_sensitive\": false, \"lang\": \"en\"}, \"contributors_enabled\": false, \"is_translator\": false, \"is_translation_enabled\": false, \"profile_background_color\": \"000000\", \"profile_background_image_url\": \"http://abs.twimg.com/images/themes/theme1/bg.png\", \"profile_background_image_url_https\": \"https://abs.twimg.com/images/themes/theme1/bg.png\", \"profile_background_tile\": false, \"profile_image_url\": \"http://pbs.twimg.com/profile_images/773317101012586496/q8sc1KuZ_normal.jpg\", \"profile_image_url_https\": \"https://pbs.twimg.com/profile_images/773317101012586496/q8sc1KuZ_normal.jpg\", \"profile_banner_url\": \"https://pbs.twimg.com/profile_banners/254107028/1473208179\", \"profile_link_color\": \"FAB81E\", \"profile_sidebar_border_color\": \"000000\", \"profile_sidebar_fill_color\": \"000000\", \"profile_text_color\": \"000000\", \"profile_use_background_image\": false, \"has_extended_profile\": false, \"default_profile\": false, \"default_profile_image\": false, \"following\": false, \"follow_request_sent\": false, \"notifications\": false, \"translator_type\": \"none\"}\n",
      "{\"id\": 2895770934, \"id_str\": \"2895770934\", \"name\": \"Deep Learning Hub\", \"screen_name\": \"DeepLearningHub\", \"location\": \"\", \"description\": \"Account for Deep Learning related news, papers, software, reading materials and also other machine learning related news and facts\", \"url\": \"https://t.co/fKXpPW5IVI\", \"entities\": {\"url\": {\"urls\": [{\"url\": \"https://t.co/fKXpPW5IVI\", \"expanded_url\": \"https://plus.google.com/107322247125350038821\", \"display_url\": \"plus.google.com/10732224712535\\u2026\", \"indices\": [0, 23]}]}, \"description\": {\"urls\": []}}, \"protected\": false, \"followers_count\": 52934, \"friends_count\": 439, \"listed_count\": 1066, \"created_at\": \"Mon Nov 10 16:29:34 +0000 2014\", \"favourites_count\": 388, \"utc_offset\": null, \"time_zone\": null, \"geo_enabled\": false, \"verified\": false, \"statuses_count\": 2431, \"lang\": \"en\", \"status\": {\"created_at\": \"Tue Apr 03 06:35:52 +0000 2018\", \"id\": 981057678565892096, \"id_str\": \"981057678565892096\", \"text\": \"RT @DarshanaN: Tomorrow Tue 4/3 talk on \\\"Deep Learning &amp; its application in Medicine\\\" at 456 W. Olive Avenue, Sunnyvale. This is a free eve\\u2026\", \"truncated\": false, \"entities\": {\"hashtags\": [], \"symbols\": [], \"user_mentions\": [{\"screen_name\": \"DarshanaN\", \"name\": \"Dr Darshana Nadkarni\", \"id\": 24947616, \"id_str\": \"24947616\", \"indices\": [3, 13]}], \"urls\": []}, \"source\": \"<a href=\\\"https://about.twitter.com/products/tweetdeck\\\" rel=\\\"nofollow\\\">TweetDeck</a>\", \"in_reply_to_status_id\": null, \"in_reply_to_status_id_str\": null, \"in_reply_to_user_id\": null, \"in_reply_to_user_id_str\": null, \"in_reply_to_screen_name\": null, \"geo\": null, \"coordinates\": null, \"place\": null, \"contributors\": null, \"retweeted_status\": {\"created_at\": \"Tue Apr 03 04:40:55 +0000 2018\", \"id\": 981028752179122176, \"id_str\": \"981028752179122176\", \"text\": \"Tomorrow Tue 4/3 talk on \\\"Deep Learning &amp; its application in Medicine\\\" at 456 W. Olive Avenue, Sunnyvale. This is a\\u2026 https://t.co/wsMvHjpvhC\", \"truncated\": true, \"entities\": {\"hashtags\": [], \"symbols\": [], \"user_mentions\": [], \"urls\": [{\"url\": \"https://t.co/wsMvHjpvhC\", \"expanded_url\": \"https://twitter.com/i/web/status/981028752179122176\", \"display_url\": \"twitter.com/i/web/status/9\\u2026\", \"indices\": [121, 144]}]}, \"source\": \"<a href=\\\"http://twitter.com\\\" rel=\\\"nofollow\\\">Twitter Web Client</a>\", \"in_reply_to_status_id\": null, \"in_reply_to_status_id_str\": null, \"in_reply_to_user_id\": null, \"in_reply_to_user_id_str\": null, \"in_reply_to_screen_name\": null, \"geo\": null, \"coordinates\": null, \"place\": {\"id\": \"30344aecffe6a491\", \"url\": \"https://api.twitter.com/1.1/geo/id/30344aecffe6a491.json\", \"place_type\": \"city\", \"name\": \"Fremont\", \"full_name\": \"Fremont, CA\", \"country_code\": \"US\", \"country\": \"United States\", \"contained_within\": [], \"bounding_box\": {\"type\": \"Polygon\", \"coordinates\": [[[-122.069956, 37.454962], [-121.889098, 37.454962], [-121.889098, 37.592327], [-122.069956, 37.592327]]]}, \"attributes\": {}}, \"contributors\": null, \"is_quote_status\": false, \"retweet_count\": 6, \"favorite_count\": 23, \"favorited\": false, \"retweeted\": false, \"lang\": \"en\"}, \"is_quote_status\": false, \"retweet_count\": 6, \"favorite_count\": 0, \"favorited\": false, \"retweeted\": false, \"lang\": \"en\"}, \"contributors_enabled\": false, \"is_translator\": false, \"is_translation_enabled\": false, \"profile_background_color\": \"022330\", \"profile_background_image_url\": \"http://abs.twimg.com/images/themes/theme15/bg.png\", \"profile_background_image_url_https\": \"https://abs.twimg.com/images/themes/theme15/bg.png\", \"profile_background_tile\": false, \"profile_image_url\": \"http://pbs.twimg.com/profile_images/534326120162656256/9pjHTMqm_normal.png\", \"profile_image_url_https\": \"https://pbs.twimg.com/profile_images/534326120162656256/9pjHTMqm_normal.png\", \"profile_banner_url\": \"https://pbs.twimg.com/profile_banners/2895770934/1427524254\", \"profile_link_color\": \"0084B4\", \"profile_sidebar_border_color\": \"A8C7F7\", \"profile_sidebar_fill_color\": \"C0DFEC\", \"profile_text_color\": \"333333\", \"profile_use_background_image\": true, \"has_extended_profile\": false, \"default_profile\": false, \"default_profile_image\": false, \"following\": false, \"follow_request_sent\": false, \"notifications\": false, \"translator_type\": \"none\"}\n"
     ]
    }
   ],
   "source": [
    "!cat data/profiles/*-user-profiles.json"
   ]
  },
  {
   "cell_type": "markdown",
   "metadata": {
    "colab_type": "text",
    "id": "MyHHXw6kpi_K"
   },
   "source": [
    "The outcoming of running the above API is to generate a twitter object. "
   ]
  },
  {
   "cell_type": "markdown",
   "metadata": {
    "colab_type": "text",
    "id": "k5K_tqPSpi_L"
   },
   "source": [
    "## Step 2. Getting Help"
   ]
  },
  {
   "cell_type": "code",
   "execution_count": null,
   "metadata": {
    "colab": {},
    "colab_type": "code",
    "id": "7EZWDoSupi_M"
   },
   "outputs": [],
   "source": [
    "# We can get some help on how to use the twitter api with the following. \n",
    "help(twitter)"
   ]
  },
  {
   "cell_type": "markdown",
   "metadata": {
    "colab_type": "text",
    "id": "K__yJC7ypi_R"
   },
   "source": [
    "\n",
    "Go ahead and take a look at the [twitter docs](https://dev.twitter.com/rest/public).\n",
    "\n"
   ]
  },
  {
   "cell_type": "code",
   "execution_count": null,
   "metadata": {
    "colab": {},
    "colab_type": "code",
    "id": "O0q3i561pi_T"
   },
   "outputs": [],
   "source": [
    "# The Yahoo! Where On Earth ID for the entire world is 1.\n",
    "# See https://dev.twitter.com/docs/api/1.1/get/trends/place and\n",
    "# http://developer.yahoo.com/geo/geoplanet/\n",
    "\n",
    "WORLD_WOE_ID = 1\n",
    "US_WOE_ID = 23424977\n",
    "\n",
    "# Prefix ID with the underscore for query string parameterization.\n",
    "# Without the underscore, the twitter package appends the ID value\n",
    "# to the URL itself as a special case keyword argument.\n",
    "\n",
    "world_trends = twitter.trends.place(_id=WORLD_WOE_ID)\n",
    "us_trends = twitter.trends.place(_id=US_WOE_ID)\n",
    "\n",
    "print (world_trends)\n",
    "print (us_trends)"
   ]
  },
  {
   "cell_type": "markdown",
   "metadata": {
    "colab_type": "text",
    "id": "tMS9yeDmpi_X"
   },
   "source": [
    "## Step 3. Displaying API responses as pretty-printed JSON"
   ]
  },
  {
   "cell_type": "code",
   "execution_count": null,
   "metadata": {
    "colab": {},
    "colab_type": "code",
    "id": "UPEUz449pi_Y"
   },
   "outputs": [],
   "source": [
    "import json\n",
    "\n",
    "print (json.dumps(world_trends, indent=1))\n",
    "print (json.dumps(us_trends, indent=1))"
   ]
  },
  {
   "cell_type": "markdown",
   "metadata": {
    "colab_type": "text",
    "id": "OdNafaVvpi_d"
   },
   "source": [
    "Take a look at the [api docs](https://dev.twitter.com/rest/reference/get/trends/place) for the /trends/place call made above. "
   ]
  },
  {
   "cell_type": "markdown",
   "metadata": {
    "colab_type": "text",
    "id": "XAUYigJ2pi_f"
   },
   "source": [
    "## Step 4. Collecting search results for a targeted hashtag."
   ]
  },
  {
   "cell_type": "code",
   "execution_count": null,
   "metadata": {
    "colab": {},
    "colab_type": "code",
    "id": "o8ZnjmSDpi_g"
   },
   "outputs": [],
   "source": [
    "# Import unquote to prevent url encoding errors in next_results\n",
    "#from urllib3 import unquote\n",
    "\n",
    "#This can be any trending topic, but let's focus on a hashtag that is relevant to the class. \n",
    "q = '#analytics' \n",
    "\n",
    "count = 100\n",
    "\n",
    "# See https://dev.twitter.com/rest/reference/get/search/tweets\n",
    "search_results = twitter.search.tweets(q=q, count=count)\n",
    "\n",
    "#This selects out \n",
    "statuses = search_results['statuses']\n",
    "\n",
    "\n",
    "# Iterate through 5 more batches of results by following the cursor\n",
    "for _ in range(5):\n",
    "    print (\"Length of statuses\", len(statuses))\n",
    "    try:\n",
    "        next_results = search_results['search_metadata']['next_results']\n",
    "        print (\"next_results\", next_results)\n",
    "    except: # No more results when next_results doesn't exist\n",
    "        break\n",
    "        \n",
    "    # Create a dictionary from next_results, which has the following form:\n",
    "    # ?max_id=313519052523986943&q=NCAA&include_entities=1\n",
    "    kwargs = dict([ kv.split('=') for kv in next_results[1:].split(\"&\") ])\n",
    "    print (kwargs)\n",
    "    search_results = twitter.search.tweets(**kwargs)\n",
    "    statuses += search_results['statuses']\n",
    "\n",
    "# Show one sample search result by slicing the list...\n",
    "print (json.dumps(statuses[0], indent=1))"
   ]
  },
  {
   "cell_type": "code",
   "execution_count": null,
   "metadata": {
    "colab": {},
    "colab_type": "code",
    "id": "abp_tNyTpi_k"
   },
   "outputs": [],
   "source": [
    "#Print several\n",
    "print (json.dumps(statuses[0:5], indent=1))"
   ]
  },
  {
   "cell_type": "markdown",
   "metadata": {
    "colab_type": "text",
    "id": "qqzT1NZ_pi_o"
   },
   "source": [
    "## Step 5. Extracting text, screen names, and hashtags from tweets"
   ]
  },
  {
   "cell_type": "code",
   "execution_count": null,
   "metadata": {
    "colab": {},
    "colab_type": "code",
    "id": "4AMge7Gapi_p"
   },
   "outputs": [],
   "source": [
    "#We can access an individual tweet like so:\n",
    "statuses[1]['text']\n",
    "\n",
    "\n",
    "\n"
   ]
  },
  {
   "cell_type": "code",
   "execution_count": null,
   "metadata": {
    "colab": {},
    "colab_type": "code",
    "id": "MO9VaXeLpi_t"
   },
   "outputs": [],
   "source": [
    "statuses[1]['entities']"
   ]
  },
  {
   "cell_type": "code",
   "execution_count": null,
   "metadata": {
    "colab": {},
    "colab_type": "code",
    "id": "7eplBeAMpi_x"
   },
   "outputs": [],
   "source": [
    "#notice the nested relationships.  We have to take notice of this to further access the data.\n",
    "statuses[1]['entities']['hashtags']"
   ]
  },
  {
   "cell_type": "code",
   "execution_count": null,
   "metadata": {
    "colab": {},
    "colab_type": "code",
    "id": "W8GRVU9Mpi_5"
   },
   "outputs": [],
   "source": [
    "status_texts = [ status['text'] \n",
    "                 for status in statuses ]\n",
    "\n",
    "screen_names = [ user_mention['screen_name'] \n",
    "                 for status in statuses\n",
    "                     for user_mention in status['entities']['user_mentions'] ]\n",
    "\n",
    "hashtags = [ hashtag['text'] \n",
    "             for status in statuses\n",
    "                 for hashtag in status['entities']['hashtags'] ]\n",
    "\n",
    "urls = [ url['url'] \n",
    "             for status in statuses\n",
    "                 for url in status['entities']['urls'] ]\n",
    "\n",
    "\n",
    "\n",
    "# Compute a collection of all words from all tweets\n",
    "words = [ w \n",
    "          for t in status_texts \n",
    "              for w in t.split() ]\n",
    "\n",
    "# Explore the first 5 items for each...\n",
    "\n",
    "print (json.dumps(status_texts[0:5], indent=1))\n",
    "print (json.dumps(screen_names[0:5], indent=1)) \n",
    "print (json.dumps(hashtags[0:5], indent=1))\n",
    "print (json.dumps(words[0:5], indent=1))"
   ]
  },
  {
   "cell_type": "markdown",
   "metadata": {
    "colab_type": "text",
    "id": "CnGE1Erxpi_8"
   },
   "source": [
    "## Step 6. Creating a basic frequency distribution from the words in tweets"
   ]
  },
  {
   "cell_type": "code",
   "execution_count": null,
   "metadata": {
    "colab": {},
    "colab_type": "code",
    "id": "wcm2YTAhpi_-"
   },
   "outputs": [],
   "source": [
    "from collections import Counter\n",
    "\n",
    "for item in [words, screen_names, hashtags]:\n",
    "    c = Counter(item)\n",
    "    print (c.most_common()[:10]) # top 10, \"\\n\")\n",
    "    "
   ]
  },
  {
   "cell_type": "code",
   "execution_count": null,
   "metadata": {
    "colab": {},
    "colab_type": "code",
    "id": "9Thxemm3pjAA"
   },
   "outputs": [],
   "source": []
  }
 ],
 "metadata": {
  "colab": {
   "collapsed_sections": [],
   "name": "01_intro_api_twitter.ipynb",
   "provenance": [
    {
     "file_id": "https://github.com/rpi-techfundamentals/spring2019-materials/blob/master/04-viz-api-scraper/01_intro_api_twitter.ipynb",
     "timestamp": 1548900753768
    }
   ],
   "version": "0.3.2"
  },
  "kernelspec": {
   "display_name": "Python 3",
   "language": "python",
   "name": "python3"
  },
  "language_info": {
   "codemirror_mode": {
    "name": "ipython",
    "version": 3
   },
   "file_extension": ".py",
   "mimetype": "text/x-python",
   "name": "python",
   "nbconvert_exporter": "python",
   "pygments_lexer": "ipython3",
   "version": "3.7.6"
  }
 },
 "nbformat": 4,
 "nbformat_minor": 4
}
